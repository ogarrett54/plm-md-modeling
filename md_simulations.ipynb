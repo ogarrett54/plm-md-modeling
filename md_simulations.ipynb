{
 "cells": [
  {
   "cell_type": "markdown",
   "id": "f94fad19",
   "metadata": {},
   "source": [
    "# MD Simulations"
   ]
  },
  {
   "cell_type": "markdown",
   "id": "f9ec232e",
   "metadata": {},
   "source": [
    "Objectives\n",
    "- Run a short (100 ns production) MD simulation on each mutant output from PyRosetta."
   ]
  },
  {
   "cell_type": "code",
   "execution_count": 4,
   "id": "10c0af67",
   "metadata": {},
   "outputs": [],
   "source": [
    "from pathlib import Path\n",
    "from pdbfixer import PDBFixer\n",
    "from openmm.app import *\n",
    "from openmm import unit, LangevinMiddleIntegrator, Platform\n",
    "from tqdm import trange"
   ]
  },
  {
   "cell_type": "code",
   "execution_count": null,
   "id": "021449b4",
   "metadata": {},
   "outputs": [],
   "source": [
    "# MD Parameters\n",
    "STEP_SIZE      = 2 * unit.femtoseconds\n",
    "RECORD_EVERY   = 5000                     # steps  (= 10 ps)\n",
    "NVT_STEPS      = 50000                   # 100 ps\n",
    "NPT_STEPS      = 50000                   # 100 ps\n",
    "PROD_STEPS     = 100000                  # 200 ps\n",
    "TEMPERATURE    = 300 * unit.kelvin\n",
    "PRESSURE       = 1 * unit.atmosphere\n",
    "NONBOND_CUTOFF = 1.0 * unit.nanometer\n",
    "PADDING        = 1.0 * unit.nanometer\n",
    "SEED           = 42"
   ]
  },
  {
   "cell_type": "markdown",
   "id": "5e838f63",
   "metadata": {},
   "source": [
    "## Fix PDBs for simulation"
   ]
  },
  {
   "cell_type": "code",
   "execution_count": null,
   "id": "97959528",
   "metadata": {},
   "outputs": [],
   "source": [
    "def fix_pdb(input_path: str | Path, output_path: str | Path | None=None):\n",
    "    \"\"\"\n",
    "    Fix a PDB file using PDBFixer by adding missing residues, atoms, and hydrogens.\n",
    "\n",
    "    Args:\n",
    "        input_path (str or Path): Path to the input PDB file.\n",
    "        output_path (str or Path, optional): Path to save the fixed PDB file. \n",
    "            If None, saves as '<input_stem>_fixed.pdb' in the same directory as input.\n",
    "\n",
    "    Returns:\n",
    "        None. Writes the fixed PDB file to the specified output path.\n",
    "    \"\"\"\n",
    "    input_path = Path(input_path)\n",
    "    output_path = Path(output_path) if output_path != None else input_path.parent / (input_path.stem + '_fixed.pdb')\n",
    "    \n",
    "    fixer = PDBFixer(filename=str(input_path))\n",
    "    fixer.findMissingResidues()\n",
    "    fixer.findMissingAtoms()\n",
    "    fixer.addMissingAtoms()\n",
    "    fixer.addMissingHydrogens(pH=7.0)\n",
    "\n",
    "    with open(output_path, 'w') as f:\n",
    "        PDBFile.writeFile(fixer.topology, fixer.positions, f)"
   ]
  },
  {
   "cell_type": "code",
   "execution_count": null,
   "id": "5f40d2a9",
   "metadata": {},
   "outputs": [],
   "source": [
    "def fix_all_pdb_in_directory(input_dir: str | Path, output_dir: str | Path):\n",
    "    \"\"\"\n",
    "    Fix all PDB files in a directory using PDBFixer and save them to an output directory.\n",
    "\n",
    "    Args:\n",
    "        input_dir (str or Path): Directory containing input PDB files.\n",
    "        output_dir (str or Path): Directory to save the fixed PDB files. Created if it does not exist.\n",
    "\n",
    "    Returns:\n",
    "        None. Writes fixed PDB files with '_fixed.pdb' appended to the filename in the output directory.\n",
    "    \"\"\"\n",
    "    input_dir = Path(input_dir)\n",
    "    output_dir = Path(output_dir)\n",
    "    output_dir.mkdir(parents=True, exist_ok=True)\n",
    "\n",
    "    pdb_files = list(input_dir.glob('*.pdb'))\n",
    "\n",
    "    for pdb in pdb_files:\n",
    "        output_path = output_dir / (pdb.stem + '_fixed.pdb')\n",
    "        fix_pdb(pdb, output_path)"
   ]
  },
  {
   "cell_type": "code",
   "execution_count": 13,
   "id": "9e6c5110",
   "metadata": {},
   "outputs": [],
   "source": [
    "fix_all_pdb_in_directory('mutant_library', 'md_sim/inputs')"
   ]
  },
  {
   "cell_type": "code",
   "execution_count": null,
   "id": "dcf3309a",
   "metadata": {},
   "outputs": [],
   "source": []
  }
 ],
 "metadata": {
  "kernelspec": {
   "display_name": "md-sim",
   "language": "python",
   "name": "python3"
  },
  "language_info": {
   "codemirror_mode": {
    "name": "ipython",
    "version": 3
   },
   "file_extension": ".py",
   "mimetype": "text/x-python",
   "name": "python",
   "nbconvert_exporter": "python",
   "pygments_lexer": "ipython3",
   "version": "3.13.3"
  }
 },
 "nbformat": 4,
 "nbformat_minor": 5
}
