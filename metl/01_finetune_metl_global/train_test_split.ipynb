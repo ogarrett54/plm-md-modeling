{
 "cells": [
  {
   "cell_type": "markdown",
   "id": "0680f772",
   "metadata": {},
   "source": [
    "**OG EDIT**\n",
    "- For the purposes of my own project, I'll be using our Pikh1 HMA-AVR-PikC binding dataset. This will be formatted as detailed in metl/data/dms_data/README.md."
   ]
  },
  {
   "cell_type": "markdown",
   "id": "3776167c-2388-430e-9e49-418cd1ed2630",
   "metadata": {},
   "source": [
    "# Generate splits for an experimental dataset\n",
    "This notebook shows how to generate splits for an experimental dataset, using the avGFP dataset as an example.\n",
    "\n",
    "You can generate multiple types of splits.\n",
    "- A \"super test\" or withholding split. It's a simple random sample of variants meant to be completely held out until the final model training and evaluation.\n",
    "- Classic train, validation, and test splits based on percentages of the total dataset.\n",
    "- Reduced dataset sizes for evaluating performance as a function of training set size.\n",
    "- Extrapolation splits (mutation, position, score, and regime extrapolation) for testing the generalization performance of the models.\n",
    "\n",
    "\n",
    "This example generates a single replicate of each type of split, but it is recommended to use multiple replicates in practice."
   ]
  },
  {
   "cell_type": "code",
   "execution_count": 1,
   "id": "d13a5a8b-bcc8-4263-9584-27c9b54a25a1",
   "metadata": {
    "ExecuteTime": {
     "end_time": "2024-02-16T22:51:36.573559Z",
     "start_time": "2024-02-16T22:51:36.569490Z"
    },
    "collapsed": false,
    "jupyter": {
     "outputs_hidden": false
    }
   },
   "outputs": [],
   "source": [
    "%load_ext autoreload\n",
    "%autoreload 2"
   ]
  },
  {
   "cell_type": "code",
   "execution_count": 2,
   "id": "c82462e3-adb2-4387-b011-c162f2c5e3b3",
   "metadata": {},
   "outputs": [
    {
     "name": "stdout",
     "output_type": "stream",
     "text": [
      "Added to sys.path: /home/oscar/projects/strucbio_projects/plm_md_modeling/metl/metl/code\n"
     ]
    }
   ],
   "source": [
    "import os\n",
    "import sys\n",
    "\n",
    "# 1. Get the absolute path of the directory containing the current script.\n",
    "#    This will be your '01_finetune_metl_global' folder.\n",
    "current_dir = os.getcwd()\n",
    "\n",
    "# 2. Get the parent directory of your current script's folder.\n",
    "#    This will be the top-level 'metl' directory that contains both of your folders.\n",
    "parent_dir = os.path.dirname(current_dir)\n",
    "\n",
    "# 3. Construct the path to the sibling 'metl' repo's 'code' folder.\n",
    "module_path = os.path.join(parent_dir, \"metl\", \"code\")\n",
    "\n",
    "# 4. Add the module path to the system path so imports work.\n",
    "if module_path not in sys.path:\n",
    "    sys.path.append(module_path)\n",
    "\n",
    "# You can add a print statement to confirm it's working correctly\n",
    "print(f\"Added to sys.path: {module_path}\")"
   ]
  },
  {
   "cell_type": "code",
   "execution_count": 3,
   "id": "1aceee92-8f31-4405-bcac-f06742d0c3e4",
   "metadata": {},
   "outputs": [],
   "source": [
    "import random\n",
    "import split_dataset as sd\n",
    "import utils"
   ]
  },
  {
   "cell_type": "code",
   "execution_count": 4,
   "id": "063a9145-9832-4f43-9465-f0043a8dcb85",
   "metadata": {},
   "outputs": [],
   "source": [
    "import logging\n",
    "logging.basicConfig()\n",
    "logger = logging.getLogger(\"METL\")\n",
    "logger.setLevel(logging.INFO)"
   ]
  },
  {
   "cell_type": "markdown",
   "id": "68ab8b51",
   "metadata": {},
   "source": [
    "# Prepare FACS data in expected format"
   ]
  },
  {
   "cell_type": "code",
   "execution_count": 12,
   "id": "b354e0da",
   "metadata": {},
   "outputs": [],
   "source": [
    "import pandas as pd\n",
    "import matplotlib.pyplot as plt"
   ]
  },
  {
   "cell_type": "code",
   "execution_count": 13,
   "id": "f50795ae",
   "metadata": {},
   "outputs": [
    {
     "data": {
      "text/html": [
       "<div>\n",
       "<style scoped>\n",
       "    .dataframe tbody tr th:only-of-type {\n",
       "        vertical-align: middle;\n",
       "    }\n",
       "\n",
       "    .dataframe tbody tr th {\n",
       "        vertical-align: top;\n",
       "    }\n",
       "\n",
       "    .dataframe thead th {\n",
       "        text-align: right;\n",
       "    }\n",
       "</style>\n",
       "<table border=\"1\" class=\"dataframe\">\n",
       "  <thead>\n",
       "    <tr style=\"text-align: right;\">\n",
       "      <th></th>\n",
       "      <th>aa_sequence</th>\n",
       "      <th>enrichment_score</th>\n",
       "    </tr>\n",
       "  </thead>\n",
       "  <tbody>\n",
       "    <tr>\n",
       "      <th>0</th>\n",
       "      <td>GLKQKIVIKVAMEGNNCRSKAMALVASTGGVDSVALVGDLRDKIEV...</td>\n",
       "      <td>1.468796</td>\n",
       "    </tr>\n",
       "    <tr>\n",
       "      <th>1</th>\n",
       "      <td>GLKRIIVIKVAREGNNCRSKAMALVASTGGVDSVALVGDLRGKIEV...</td>\n",
       "      <td>1.415944</td>\n",
       "    </tr>\n",
       "    <tr>\n",
       "      <th>2</th>\n",
       "      <td>GLKRIIVIKVAMEGNNCRSKAMALVASTGGVDSVALVGDLRGKIEV...</td>\n",
       "      <td>1.389615</td>\n",
       "    </tr>\n",
       "    <tr>\n",
       "      <th>3</th>\n",
       "      <td>GLKQKIVIKVAMEGNNCRSKAMALVASTGGVDSVALVGDLRDKIEV...</td>\n",
       "      <td>1.359651</td>\n",
       "    </tr>\n",
       "    <tr>\n",
       "      <th>4</th>\n",
       "      <td>GLKQKIVIKVAMEGNNCRSKAMALVASTGGVDSVALVGDLRGKIEV...</td>\n",
       "      <td>1.343857</td>\n",
       "    </tr>\n",
       "  </tbody>\n",
       "</table>\n",
       "</div>"
      ],
      "text/plain": [
       "                                         aa_sequence  enrichment_score\n",
       "0  GLKQKIVIKVAMEGNNCRSKAMALVASTGGVDSVALVGDLRDKIEV...          1.468796\n",
       "1  GLKRIIVIKVAREGNNCRSKAMALVASTGGVDSVALVGDLRGKIEV...          1.415944\n",
       "2  GLKRIIVIKVAMEGNNCRSKAMALVASTGGVDSVALVGDLRGKIEV...          1.389615\n",
       "3  GLKQKIVIKVAMEGNNCRSKAMALVASTGGVDSVALVGDLRDKIEV...          1.359651\n",
       "4  GLKQKIVIKVAMEGNNCRSKAMALVASTGGVDSVALVGDLRGKIEV...          1.343857"
      ]
     },
     "execution_count": 13,
     "metadata": {},
     "output_type": "execute_result"
    }
   ],
   "source": [
    "csv_path = os.path.join(parent_dir,'yeast_data','avrpikC_full.csv')\n",
    "df = pd.read_csv(str(csv_path))\n",
    "df.head()"
   ]
  },
  {
   "cell_type": "code",
   "execution_count": 14,
   "id": "4e677532",
   "metadata": {},
   "outputs": [],
   "source": [
    "def identify_mutations(reference_seq, mutant_seq):\n",
    "    \"\"\"\n",
    "    Compares a mutant sequence to a reference sequence and identifies mutations.\n",
    "\n",
    "    Args:\n",
    "        reference_seq (str): The wild-type amino acid sequence.\n",
    "        mutant_seq (str): The mutant amino acid sequence.\n",
    "\n",
    "    Returns:\n",
    "        tuple: A tuple containing:\n",
    "            - str: A comma-separated string of mutations (e.g., \"K2E,A11E\").\n",
    "            - int: The total number of mutations.\n",
    "    \"\"\"\n",
    "    mutations = []\n",
    "    # Use zip to iterate through both sequences simultaneously.\n",
    "    # The position is 1-indexed for standard mutation notation.\n",
    "    for i, (wt_aa, mut_aa) in enumerate(zip(reference_seq, mutant_seq)):\n",
    "        if wt_aa != mut_aa:\n",
    "            # Format the mutation string: [WT_AA][Position (0-indexed)][Mutant_AA]\n",
    "            mutation_str = f\"{wt_aa}{i}{mut_aa}\"\n",
    "            mutations.append(mutation_str)\n",
    "            \n",
    "    if not mutations:\n",
    "        return \"WT\", 0\n",
    "        \n",
    "    return \",\".join(mutations), len(mutations)"
   ]
  },
  {
   "cell_type": "code",
   "execution_count": 15,
   "id": "906cea82",
   "metadata": {},
   "outputs": [
    {
     "name": "stdout",
     "output_type": "stream",
     "text": [
      "--- Transformed Data Preview ---\n",
      "             variant  num_mutations     score\n",
      "0          Q73R,A74V              2  1.468796\n",
      "1  Q3R,K4I,M11R,D41G              4  1.415944\n",
      "2       Q3R,K4I,D41G              3  1.389615\n",
      "3          E67K,D77G              2  1.359651\n",
      "4          D41G,D65N              2  1.343857\n",
      "\n",
      "Successfully created 'pikh1.tsv'\n"
     ]
    }
   ],
   "source": [
    "# --- Data Transformation ---\n",
    "wt_sequence = \"GLKQKIVIKVAMEGNNCRSKAMALVASTGGVDSVALVGDLRDKIEVVGYGIDPIKLISALRKKVGDAELLQVSQAKKD\"\n",
    "\n",
    "# 1. Apply the function to each row of the DataFrame.\n",
    "#    This creates two new temporary Series containing the mutation strings and their counts.\n",
    "mutations_info = df['aa_sequence'].apply(lambda seq: identify_mutations(wt_sequence, seq))\n",
    "\n",
    "# 2. Create the new columns in the DataFrame.\n",
    "df['variant'] = mutations_info.apply(lambda x: x[0])\n",
    "df['num_mutations'] = mutations_info.apply(lambda x: x[1])\n",
    "\n",
    "# 3. Rename the 'enrichment_score' column to 'score' for the final output.\n",
    "df.rename(columns={'enrichment_score': 'score'}, inplace=True)\n",
    "\n",
    "# 4. Create the final DataFrame with the desired columns in the correct order.\n",
    "output_df = df[['variant', 'num_mutations', 'score']]\n",
    "\n",
    "\n",
    "# --- Output ---\n",
    "\n",
    "# Display the first few rows of the transformed data\n",
    "print(\"--- Transformed Data Preview ---\")\n",
    "print(output_df.head())\n",
    "\n",
    "# Save the final DataFrame to a tab-separated values (TSV) file.\n",
    "# The `index=False` argument prevents pandas from writing the DataFrame index to the file.\n",
    "output_filename = 'pikh1.tsv'\n",
    "output_df.to_csv(output_filename, sep='\\t', index=False)\n",
    "\n",
    "print(f\"\\nSuccessfully created '{output_filename}'\")"
   ]
  },
  {
   "cell_type": "code",
   "execution_count": 14,
   "id": "06e0be00",
   "metadata": {},
   "outputs": [
    {
     "data": {
      "image/png": "[encoded data removed]",
      "text/plain": [
       "<Figure size 800x500 with 1 Axes>"
      ]
     },
     "metadata": {},
     "output_type": "display_data"
    }
   ],
   "source": [
    "# Determine the range for bins to ensure each integer has its own bar\n",
    "max_mutations = output_df['num_mutations'].max()\n",
    "bins = range(int(max_mutations) + 2) # e.g., if max is 3, bins will be [0, 1, 2, 3, 4]\n",
    "\n",
    "plt.figure(figsize=(8, 5))\n",
    "plt.hist(output_df['num_mutations'], bins=bins, align='left', rwidth=0.8, color='skyblue', edgecolor='black')\n",
    "plt.title('Distribution of Number of Mutations per Variant')\n",
    "plt.xlabel('Number of Mutations')\n",
    "plt.ylabel('Frequency (Count of Variants)')\n",
    "plt.xticks(bins[:-1]) # Set ticks to be the integer values\n",
    "plt.grid(axis='y', alpha=0.75)\n",
    "plt.show()"
   ]
  },
  {
   "cell_type": "markdown",
   "id": "6571701f",
   "metadata": {},
   "source": [
    "# Rosettafy PDB"
   ]
  },
  {
   "cell_type": "code",
   "execution_count": 1,
   "id": "aa264574",
   "metadata": {},
   "outputs": [],
   "source": [
    "import os\n",
    "import sys\n",
    "import argparse\n",
    "from pathlib import Path"
   ]
  },
  {
   "cell_type": "code",
   "execution_count": 5,
   "id": "73fe3cf5",
   "metadata": {},
   "outputs": [],
   "source": [
    "# --- 1. Define Your Paths ---\n",
    "# IMPORTANT: You MUST update these paths to match your system's setup.\n",
    "\n",
    "# Path to your Rosetta installation.\n",
    "# Example: '/home/user/rosetta/rosetta_src_2021.16.61629_bundle/main'\n",
    "ROSETTA_MAIN_DIR = os.path.expanduser(\"~/rosetta/main/\")\n",
    "\n",
    "# Path to the raw PDB file you want to process.\n",
    "# This should be the full path to the file.\n",
    "# Example: '/home/user/metl_project/metl-sim/pdb_files/1gfl.pdb'\n",
    "INPUT_PDB_FN = '/home/oscar/projects/strucbio_projects/plm_md_modeling/metl/01_finetune_metl_global/inputs/h1-C_af3.pdb'\n",
    "\n",
    "# Specify the chain you want to keep from the PDB file.\n",
    "# 'ignorechain' will keep all chains.\n",
    "CHAIN_TO_KEEP = 'A'\n",
    "# The base directory where you want the output folders to be created.\n",
    "# A new timestamped subfolder will be created here.\n",
    "# Example: '/home/user/metl_project/01_finetune_metl_global/prepared_pdbs'\n",
    "OUTPUT_DIR_BASE = \"/home/oscar/projects/strucbio_projects/plm_md_modeling/metl/01_finetune_metl_global/rosettafy_output\"\n",
    "\n",
    "# --- 2. Set up the Environment to Find the Script ---\n",
    "\n",
    "# Get the directory of the sibling 'metl-sim' folder\n",
    "# This assumes your notebook is in '01_finetune_metl_global'\n",
    "current_dir = Path(os.getcwd())\n",
    "metl_sim_dir = current_dir.parent / 'metl-sim'\n",
    "prepare_script_dir = metl_sim_dir / 'code'\n",
    "\n",
    "# Add the script's directory to the Python path to allow importing\n",
    "if str(prepare_script_dir) not in sys.path:\n",
    "    sys.path.insert(0, str(prepare_script_dir))\n",
    "\n",
    "# Import the main function from the prepare.py script\n",
    "try:\n",
    "    from prepare import main as run_prepare_pdb\n",
    "except ImportError as e:\n",
    "    print(f\"Error: Could not import the prepare script.\")\n",
    "    print(f\"Please ensure the path '{prepare_script_dir}' is correct.\")\n",
    "    raise e"
   ]
  },
  {
   "cell_type": "code",
   "execution_count": 6,
   "id": "73ac8a6c",
   "metadata": {},
   "outputs": [
    {
     "name": "stdout",
     "output_type": "stream",
     "text": [
      "Temporarily changed working directory to: /home/oscar/projects/strucbio_projects/plm_md_modeling/metl/metl-sim\n",
      "\n",
      "--- Starting PDB Preparation ---\n",
      "Input PDB: /home/oscar/projects/strucbio_projects/plm_md_modeling/metl/01_finetune_metl_global/inputs/h1-C_af3.pdb\n",
      "Rosetta Directory: /home/oscar/rosetta/main/\n",
      "This process may take several minutes...\n",
      "output directory is: /home/oscar/projects/strucbio_projects/plm_md_modeling/metl/01_finetune_metl_global/rosettafy_output/h1-C_af3_2025-07-02_15-26-15\n",
      "Found 10 structures with lowest energy (-193.781).\n",
      "\n",
      "--- PDB Preparation Finished Successfully! ---\n",
      "Check the '/home/oscar/projects/strucbio_projects/plm_md_modeling/metl/01_finetune_metl_global/rosettafy_output' directory for your prepared PDB file.\n",
      "\n",
      "Restored working directory to: /home/oscar/projects/strucbio_projects/plm_md_modeling/metl/01_finetune_metl_global\n"
     ]
    }
   ],
   "source": [
    "# --- 3. Create Mock Arguments and Run the Script ---\n",
    "\n",
    "# The prepare.py script expects to be run from its own directory to find templates.\n",
    "# We will temporarily change the working directory.\n",
    "original_wd = os.getcwd()\n",
    "os.chdir(metl_sim_dir)\n",
    "print(f\"Temporarily changed working directory to: {metl_sim_dir}\")\n",
    "\n",
    "try:\n",
    "    # Create a namespace object to simulate command-line arguments\n",
    "    args = argparse.Namespace(\n",
    "        rosetta_main_dir=ROSETTA_MAIN_DIR,\n",
    "        pdb_fn=INPUT_PDB_FN,\n",
    "        keep_ligand=False,  # Set to True if your PDB has a ligand you want to keep\n",
    "        chain=CHAIN_TO_KEEP,\n",
    "        relax_nstruct=10,   # Number of structures to generate during relax\n",
    "        out_dir_base=OUTPUT_DIR_BASE,\n",
    "        conda_pack_env=None # Set to a path if you use conda-pack, otherwise leave as None\n",
    "    )\n",
    "    \n",
    "    # Make sure the output directory exists\n",
    "    os.makedirs(OUTPUT_DIR_BASE, exist_ok=True)\n",
    "\n",
    "    print(\"\\n--- Starting PDB Preparation ---\")\n",
    "    print(f\"Input PDB: {args.pdb_fn}\")\n",
    "    print(f\"Rosetta Directory: {args.rosetta_main_dir}\")\n",
    "    print(\"This process may take several minutes...\")\n",
    "\n",
    "    # Run the main function from the prepare.py script\n",
    "    run_prepare_pdb(args)\n",
    "\n",
    "    print(\"\\n--- PDB Preparation Finished Successfully! ---\")\n",
    "    print(f\"Check the '{OUTPUT_DIR_BASE}' directory for your prepared PDB file.\")\n",
    "\n",
    "except RuntimeError as e:\n",
    "    print(\"\\n\" + \"=\"*50)\n",
    "    print(\"!!! An error occurred during the PDB preparation process !!!\")\n",
    "    print(\"=\"*50)\n",
    "    print(\"The 'prepare.py' script reported a failure. This is often caused by an issue with the\")\n",
    "    print(\"Conda environment or the input PDB file. Here is the log from the failed step:\")\n",
    "    \n",
    "    try:\n",
    "        # Find the most recently created output directory to locate the log file\n",
    "        output_dirs = [d for d in os.listdir(OUTPUT_DIR_BASE) if os.path.isdir(os.path.join(OUTPUT_DIR_BASE, d))]\n",
    "        latest_dir = max(output_dirs, key=lambda d: os.path.getmtime(os.path.join(OUTPUT_DIR_BASE, d)))\n",
    "        log_file_path = os.path.join(OUTPUT_DIR_BASE, latest_dir, 'working_dir', 'clean_pdb.out')\n",
    "\n",
    "        if os.path.exists(log_file_path):\n",
    "            print(f\"\\n--- Contents of {log_file_path} ---\\n\")\n",
    "            with open(log_file_path, 'r') as f:\n",
    "                print(f.read())\n",
    "            print(\"--- End of Log ---\")\n",
    "        else:\n",
    "            print(f\"\\nCould not find the log file at: {log_file_path}\")\n",
    "\n",
    "    except Exception as log_e:\n",
    "        print(f\"\\nCould not retrieve the log file. Error: {log_e}\")\n",
    "    \n",
    "    # Re-raise the original exception to show the full traceback\n",
    "    raise e\n",
    "\n",
    "finally:\n",
    "    # IMPORTANT: Change back to the original directory\n",
    "    os.chdir(original_wd)\n",
    "    print(f\"\\nRestored working directory to: {original_wd}\")"
   ]
  },
  {
   "cell_type": "markdown",
   "id": "9d40f061",
   "metadata": {},
   "source": [
    "- pikh1.tsv was transfered to metl/data/dms_data/pikh1.\n",
    "- the following was added to datasets.yml:\n",
    "\n",
    "```\n",
    "pikh1:\n",
    "  ds_name: pikh1\n",
    "  ds_dir: /home/oscar/projects/strucbio_projects/plm_md_modeling/metl/metl/data/dms_data/pikh1\n",
    "  ds_fn: /home/oscar/projects/strucbio_projects/plm_md_modeling/metl/metl/data/dms_data/pikh1/pikh1.tsv\n",
    "  wt_aa: GLKQKIVIKVAMEGNNCRSKAMALVASTGGVDSVALVGDLRDKIEVVGYGIDPIKLISALRKKVGDAELLQVSQAKKD\n",
    "  wt_ofs: 0\n",
    "  pdb_fn: h1-C_rcsb_cut.pdb\n",
    "  rosettafy_pdb_fn: h1-C_rcsb_cut_p.pdb\n",
    "```"
   ]
  },
  {
   "cell_type": "markdown",
   "id": "6a49ff16-9df3-445d-b6e1-1eeca8cbcf4d",
   "metadata": {},
   "source": [
    "# Load the dataset"
   ]
  },
  {
   "cell_type": "code",
   "execution_count": 11,
   "id": "70a9703d-4955-453a-b53f-431cf4d0eba9",
   "metadata": {},
   "outputs": [],
   "source": [
    "ds_name = \"pikh1_af3\"\n",
    "ds = utils.load_dataset(ds_name)\n",
    "\n",
    "# some additional info needed for extrapolation splits\n",
    "datasets = utils.load_dataset_metadata()\n",
    "seq_len = len(datasets[ds_name][\"wt_aa\"])\n",
    "wt_ofs = datasets[ds_name][\"wt_ofs\"]"
   ]
  },
  {
   "cell_type": "markdown",
   "id": "80a60e6e-d07a-4285-841a-63c95b75e043",
   "metadata": {},
   "source": [
    "# Withhold a \"super test\" set\n",
    "\n",
    "I recommend having a completely held-out \"super test\" set. Don't use this set for development of the algorithm and don't look at evaluation results on this set until the very end, when you are ready to publish. Here we will create a super test set for avgfp and save it to the avgfp splits directory [data/avgfp/splits](../data/avgfp/splits).\n",
    "\n"
   ]
  },
  {
   "cell_type": "code",
   "execution_count": 12,
   "id": "18dd84e2-9671-4740-badc-260fd96d5bad",
   "metadata": {},
   "outputs": [
    {
     "name": "stderr",
     "output_type": "stream",
     "text": [
      "INFO:METL.split_dataset:saving supertest split to file data/dms_data/pikh1/splits/supertest_w199b2a43b1ed_s0.1_r5958.txt\n"
     ]
    },
    {
     "data": {
      "text/plain": [
       "'data/dms_data/pikh1/splits/supertest_w199b2a43b1ed_s0.1_r5958.txt'"
      ]
     },
     "execution_count": 12,
     "metadata": {},
     "output_type": "execute_result"
    }
   ],
   "source": [
    "out_dir = \"data/dms_data/pikh1/splits/\"\n",
    "\n",
    "# use a fixed random seed for demonstration purposes\n",
    "# rseed = random.randint(1000, 9999)\n",
    "rseed = 5958\n",
    "\n",
    "supertest_idxs, supertest_fn = sd.supertest(ds, size=.1, rseed=rseed, out_dir=out_dir, overwrite=True)\n",
    "supertest_fn"
   ]
  },
  {
   "cell_type": "markdown",
   "id": "1f7b6702-fbf8-4efa-a06c-65801ccf2059",
   "metadata": {},
   "source": [
    "# Standard train, validation, and test splits\n",
    "\n",
    "This will randomly sample train, validation, and test splits from the full dataset. You must specify the size of each set as a fraction of the total number of examples."
   ]
  },
  {
   "cell_type": "code",
   "execution_count": 13,
   "id": "2b29caa1-e46a-412e-8664-e685979f0d01",
   "metadata": {},
   "outputs": [
    {
     "name": "stderr",
     "output_type": "stream",
     "text": [
      "INFO:METL.split_dataset:saving train-val-test split to directory data/dms_data/pikh1/splits/standard/standard_tr0.8_tu0.1_te0.1_w240f09807a82_r3597\n"
     ]
    }
   ],
   "source": [
    "out_dir = \"data/dms_data/pikh1/splits/standard\"\n",
    "\n",
    "# specify the super test set from above\n",
    "# this set will be withheld from this train test split\n",
    "withhold_fn = \"data/dms_data/pikh1/splits/supertest_w240f09807a82_s0.1_r5958.txt\"\n",
    "\n",
    "# specify 80% train, 10% validation, and 10% test sizes\n",
    "train_size = 0.8\n",
    "val_size = 0.1\n",
    "test_size = 0.1\n",
    "\n",
    "# multiple replicate splits\n",
    "replicates = 1\n",
    "\n",
    "# random seeds\n",
    "# rseeds = [random.randint(1000, 9999) for _ in range(replicates)]\n",
    "# for purposes of this demo, make the rseeds constant\n",
    "rseeds = [3597]\n",
    "\n",
    "for rseed in rseeds:    \n",
    "    split, out_dir_split = sd.train_val_test(ds, \n",
    "                                             train_size=train_size, \n",
    "                                             val_size=val_size, \n",
    "                                             test_size=test_size, \n",
    "                                             withhold=withhold_fn, \n",
    "                                             out_dir=out_dir, \n",
    "                                             rseed=rseed, \n",
    "                                             overwrite=True)"
   ]
  },
  {
   "cell_type": "markdown",
   "id": "2140b6ae-c5d5-4924-be52-44a5832bd6f9",
   "metadata": {},
   "source": [
    "# Resampled dataset sizes\n",
    "\n",
    "This splits enable you to evaluate performance as a function of train size."
   ]
  },
  {
   "cell_type": "code",
   "execution_count": 14,
   "id": "c88aff00-918b-400e-8a3b-d0018b3e6554",
   "metadata": {},
   "outputs": [
    {
     "name": "stderr",
     "output_type": "stream",
     "text": [
      "INFO:METL.split_dataset:saving resampled split to directory data/dms_data/pikh1/splits/resampled/resampled_ds10_val0.2_te0.1_w240f09807a82_s1_r8099\n",
      "INFO:METL.split_dataset:saving resampled split to directory data/dms_data/pikh1/splits/resampled/resampled_ds20_val0.2_te0.1_w240f09807a82_s1_r8099\n"
     ]
    },
    {
     "name": "stderr",
     "output_type": "stream",
     "text": [
      "INFO:METL.split_dataset:saving resampled split to directory data/dms_data/pikh1/splits/resampled/resampled_ds40_val0.2_te0.1_w240f09807a82_s1_r8099\n",
      "INFO:METL.split_dataset:saving resampled split to directory data/dms_data/pikh1/splits/resampled/resampled_ds80_val0.2_te0.1_w240f09807a82_s1_r8099\n",
      "INFO:METL.split_dataset:saving resampled split to directory data/dms_data/pikh1/splits/resampled/resampled_ds160_val0.2_te0.1_w240f09807a82_s1_r8099\n",
      "INFO:METL.split_dataset:saving resampled split to directory data/dms_data/pikh1/splits/resampled/resampled_ds320_val0.2_te0.1_w240f09807a82_s1_r8099\n",
      "INFO:METL.split_dataset:saving resampled split to directory data/dms_data/pikh1/splits/resampled/resampled_ds640_val0.2_te0.1_w240f09807a82_s1_r8099\n",
      "INFO:METL.split_dataset:saving resampled split to directory data/dms_data/pikh1/splits/resampled/resampled_ds1280_val0.2_te0.1_w240f09807a82_s1_r8099\n",
      "INFO:METL.split_dataset:saving resampled split to directory data/dms_data/pikh1/splits/resampled/resampled_ds2560_val0.2_te0.1_w240f09807a82_s1_r8099\n"
     ]
    }
   ],
   "source": [
    "out_dir = \"data/dms_data/pikh1/splits/resampled\"\n",
    "withhold_fn = \"data/dms_data/pikh1/splits/supertest_w240f09807a82_s0.1_r5958.txt\"\n",
    "\n",
    "# specify the dataset sizes and number of replicates per dataset size\n",
    "dataset_sizes = [10, 20, 40, 80, 160, 320, 640, 1280, 2560]\n",
    "# just one replicate for each dataset size for this example\n",
    "replicates = [1, 1, 1, 1, 1, 1, 1, 1, 1, 1, 1, 1]\n",
    "# use multiple replicates in practice\n",
    "# replicates = [101, 23, 11, 11, 11, 11, 7, 7, 5, 5, 3, 3]\n",
    "\n",
    "# rseed = random.randint(1000, 9999)\n",
    "rseed = 8099\n",
    "\n",
    "# the test set is sampled from the full dataset\n",
    "test_fraction = 0.1\n",
    "\n",
    "# the validation set is sampled from the reduced dataset size\n",
    "# the train set will be 1 minus the validation fraction\n",
    "# so in this case, the train set will be 80%, and the validation set 20%\n",
    "val_fraction = 0.2\n",
    "\n",
    "# create the suite of resampled dataset size splits\n",
    "for ds_size, reps in zip(dataset_sizes, replicates):\n",
    "    splits, reduced_split_dir = sd.resampled_dataset_size(full_dataset_size=ds.shape[0], \n",
    "                                                          test_fraction=test_fraction, \n",
    "                                                          dataset_size=ds_size,\n",
    "                                                          val_fraction=val_fraction,\n",
    "                                                          num_replicates=reps, \n",
    "                                                          withhold=withhold_fn, \n",
    "                                                          rseed=rseed, \n",
    "                                                          out_dir=out_dir,\n",
    "                                                          overwrite=True)"
   ]
  },
  {
   "cell_type": "markdown",
   "id": "92f45b81-3abf-4ad9-9509-97e3c742f019",
   "metadata": {},
   "source": [
    "# Position extrapolation"
   ]
  },
  {
   "cell_type": "code",
   "execution_count": 15,
   "id": "858ea4f4-7fac-4472-a61a-e27235255751",
   "metadata": {},
   "outputs": [
    {
     "name": "stderr",
     "output_type": "stream",
     "text": [
      "INFO:METL.split_dataset:num_train_positions: 62, num_test_positions: 16\n",
      "INFO:METL.split_dataset:train pool size: 2597, test pool size: 198, overlap pool size: 1164\n",
      "INFO:METL.split_dataset:num_train: 2337, num_val: 260, num_test: 198\n",
      "INFO:METL.split_dataset:saving train-val-test split to directory data/dms_data/pikh1/splits/position/position_tr-pos0.8_tu0.1_r6822\n"
     ]
    }
   ],
   "source": [
    "out_dir = \"data/dms_data/pikh1/splits/position\"\n",
    "\n",
    "# 80% of positions are designated train pool, 20% are desinated test pool\n",
    "train_pos_size = 0.8\n",
    "\n",
    "# the training pool is split into 90% training set and 10% validation set \n",
    "val_size = 0.1\n",
    "\n",
    "# if the dataset is very large or you want to standardize the dataset size at\n",
    "# which you perform position extrapolation, you can optionally specify that\n",
    "# dataset size here\n",
    "resample_dataset_size = None\n",
    "\n",
    "replicates = 1\n",
    "# rseeds = [random.randint(1000, 9999) for _ in range(replicates)]\n",
    "rseeds = [6822]\n",
    "\n",
    "for rseed in rseeds:    \n",
    "    split, out_dir_split, additional_info = sd.position_split(ds, \n",
    "                                                              seq_len, \n",
    "                                                              wt_ofs, \n",
    "                                                              train_pos_size, \n",
    "                                                              val_size,\n",
    "                                                              resample_dataset_size=resample_dataset_size,\n",
    "                                                              out_dir=out_dir, \n",
    "                                                              rseed=rseed, \n",
    "                                                              overwrite=True)"
   ]
  },
  {
   "cell_type": "markdown",
   "id": "d4fa093a-a43e-4a67-8c5e-3da1e78b8f22",
   "metadata": {},
   "source": [
    "# Mutation extrapolation"
   ]
  },
  {
   "cell_type": "code",
   "execution_count": 16,
   "id": "dd30a32c-aed8-417c-b8fd-8903b954ec51",
   "metadata": {},
   "outputs": [
    {
     "name": "stderr",
     "output_type": "stream",
     "text": [
      "INFO:METL.split_dataset:number of unique mutations in ds: 366\n",
      "INFO:METL.split_dataset:num_train_mutations: 293, num_test_mutations: 73\n"
     ]
    },
    {
     "name": "stderr",
     "output_type": "stream",
     "text": [
      "INFO:METL.split_dataset:train pool size: 2477, test pool size: 223, overlap pool size: 1259\n",
      "INFO:METL.split_dataset:num_train: 2229, num_val: 248, num_test: 223\n",
      "INFO:METL.split_dataset:saving train-val-test split to directory data/dms_data/pikh1/splits/mutation/mutation_tr-muts0.8_tu0.1_r4419\n"
     ]
    }
   ],
   "source": [
    "out_dir = \"data/dms_data/pikh1/splits/mutation\"\n",
    "\n",
    "resample_dataset_size = None\n",
    "\n",
    "# 80% of mutations are designated train pool, 20% are desinated test pool\n",
    "train_muts_size = 0.8\n",
    "\n",
    "# the training pool is split into 90% training set and 10% validation set \n",
    "val_size = 0.1\n",
    "\n",
    "replicates = 1\n",
    "# rseeds = [random.randint(1000, 9999) for _ in range(replicates)]\n",
    "rseeds = [4419]\n",
    "\n",
    "for rseed in rseeds:    \n",
    "    split, out_dir_split, additional_info = sd.mutation_split(ds, \n",
    "                                                              train_muts_size,\n",
    "                                                              val_size, \n",
    "                                                              out_dir=out_dir, \n",
    "                                                              rseed=rseed, \n",
    "                                                              resample_dataset_size=resample_dataset_size,\n",
    "                                                              overwrite=True)"
   ]
  },
  {
   "cell_type": "markdown",
   "id": "e19e3a8c-3a65-42b1-97de-6c818a35401a",
   "metadata": {},
   "source": [
    "# Score extrapolation"
   ]
  },
  {
   "cell_type": "code",
   "execution_count": 17,
   "id": "3cd05918-b386-4644-8651-02d87b2c7a01",
   "metadata": {},
   "outputs": [
    {
     "name": "stderr",
     "output_type": "stream",
     "text": [
      "INFO:METL.split_dataset:train pool size: 1669, test pool size: 2290\n",
      "INFO:METL.split_dataset:num_train: 1502, num_val: 167, num_test: 2290\n",
      "INFO:METL.split_dataset:saving train-val-test split to directory data/dms_data/pikh1/splits/score/score_thresh0_tu0.1_r5265\n"
     ]
    }
   ],
   "source": [
    "out_dir = \"data/dms_data/pikh1/splits/score\"\n",
    "\n",
    "resample_dataset_size = None\n",
    "\n",
    "# set the wild-type score for this dataset\n",
    "wt_score = 0\n",
    "score_name = \"score\"\n",
    "\n",
    "# training pool is split into 90% train and 10% validation sets \n",
    "val_size = 0.1\n",
    "\n",
    "replicates = 1\n",
    "# rseeds = [random.randint(1000, 9999) for _ in range(replicates)]\n",
    "rseeds = [5265]\n",
    "\n",
    "for rseed in rseeds:    \n",
    "    split, out_dir_split = sd.score_extrapolation_split(ds, \n",
    "                                                     score_name=score_name, \n",
    "                                                     wt_score=wt_score, \n",
    "                                                     val_size=val_size,\n",
    "                                                     resample_dataset_size=resample_dataset_size,\n",
    "                                                     out_dir=out_dir,\n",
    "                                                     rseed=rseed, \n",
    "                                                     overwrite=True)"
   ]
  },
  {
   "cell_type": "markdown",
   "id": "5ae4a900-250c-49c7-aab6-4e5cb390ded2",
   "metadata": {},
   "source": [
    "# Regime extrapolation"
   ]
  },
  {
   "cell_type": "code",
   "execution_count": 18,
   "id": "0c65d536-c2f6-412b-b15a-6ed4353b40cb",
   "metadata": {},
   "outputs": [
    {
     "name": "stderr",
     "output_type": "stream",
     "text": [
      "INFO:METL.split_dataset:train pool size: 366, test pool size: 3593, discard pool size: 0\n",
      "INFO:METL.split_dataset:num_train: 292, num_val: 74, num_test: 360\n",
      "INFO:METL.split_dataset:saving train-val-test split to directory data/dms_data/pikh1/splits/regime/regime_tr-reg1_te-reg2-3-4-5-6-8_tr0.8_tu0.2_te0.1_r5514\n"
     ]
    }
   ],
   "source": [
    "out_dir = \"data/dms_data/pikh1/splits/regime\"\n",
    "\n",
    "train_regimes = 1\n",
    "test_regimes = [2, 3, 4, 5, 6, 8]\n",
    "\n",
    "# for the train pool (all single mutants)\n",
    "# use 80% as the training set and 20% as the validation set\n",
    "train_size = 0.8\n",
    "val_size = 0.2\n",
    "\n",
    "# for the test pool (all 2+ mutants), don't use all for the test set\n",
    "# to help lessen risk of overfitting to full test set during development\n",
    "# the test set will be just 10% of all available 2+ mutants\n",
    "test_size = 0.1\n",
    "\n",
    "\n",
    "replicates = 1\n",
    "# rseeds = [random.randint(1000, 9999) for _ in range(replicates)]\n",
    "rseeds = [8903]\n",
    "\n",
    "for _ in range(replicates):    \n",
    "    rseed = random.randint(1000,9999)\n",
    "    split, out_dir_split, additional_info = sd.regime_split(ds, \n",
    "                                                            train_regimes=train_regimes, \n",
    "                                                            test_regimes=test_regimes, \n",
    "                                                            train_size=train_size, \n",
    "                                                            val_size=val_size, \n",
    "                                                            test_size=test_size,\n",
    "                                                            rseed=rseed, \n",
    "                                                            out_dir=out_dir, \n",
    "                                                            overwrite=True)"
   ]
  },
  {
   "cell_type": "code",
   "execution_count": null,
   "id": "95cfbfb5-220a-47be-9ee5-d0de9e7d72a7",
   "metadata": {},
   "outputs": [],
   "source": []
  }
 ],
 "metadata": {
  "kernelspec": {
   "display_name": "metl",
   "language": "python",
   "name": "python3"
  },
  "language_info": {
   "codemirror_mode": {
    "name": "ipython",
    "version": 3
   },
   "file_extension": ".py",
   "mimetype": "text/x-python",
   "name": "python",
   "nbconvert_exporter": "python",
   "pygments_lexer": "ipython3",
   "version": "3.9.13"
  }
 },
 "nbformat": 4,
 "nbformat_minor": 5
}
