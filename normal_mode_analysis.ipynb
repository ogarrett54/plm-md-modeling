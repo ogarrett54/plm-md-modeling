{
 "cells": [
  {
   "cell_type": "markdown",
   "id": "631325d8",
   "metadata": {},
   "source": [
    "# Normal Mode Analysis"
   ]
  },
  {
   "cell_type": "markdown",
   "id": "c5fc32c9",
   "metadata": {},
   "source": [
    "Objectives\n",
    "- use Normal Mode Analysis to extract dynamics features"
   ]
  },
  {
   "cell_type": "markdown",
   "id": "391e8235",
   "metadata": {},
   "source": [
    "Resources\n",
    "- Original code from https://github.com/ShenLab/SeqDance/blob/main/data_prepare/normal_mode_analysis/NMA_features.py\n",
    "- ProDy tutorials: \n",
    "    - http://www.bahargroup.org/prody/tutorials/\n",
    "    - http://www.bahargroup.org/prody/tutorials/enm_analysis/"
   ]
  },
  {
   "cell_type": "code",
   "execution_count": 10,
   "id": "3e4c5c29",
   "metadata": {},
   "outputs": [],
   "source": [
    "from prody import *\n",
    "from pylab import *\n",
    "import numpy as np\n",
    "import sys, getopt"
   ]
  },
  {
   "cell_type": "code",
   "execution_count": 11,
   "id": "f7aa1a57",
   "metadata": {},
   "outputs": [],
   "source": [
    "# Define a custom gamma function to modify the force constant based on their distance.\n",
    "# Higher gamma values indicate stiffer connections, meaning the two atoms move less \n",
    "# independently.\n",
    "\n",
    "def gammaDistanceDependent(dist2, *args):\n",
    "    \"\"\"Return a force constant based on the square distance.\"\"\"\n",
    "    if dist2 <= 16:\n",
    "        return 10\n",
    "    elif dist2 <= 100:\n",
    "        return 2\n",
    "    elif dist2 <= 225:\n",
    "        return 1\n",
    "    else:\n",
    "        return 0"
   ]
  },
  {
   "cell_type": "code",
   "execution_count": 12,
   "id": "1841dc0c",
   "metadata": {},
   "outputs": [],
   "source": [
    "# Classify normal modes into three distinct ranges, each contributing to different dynamics\n",
    "# The function splits the eigenvalues into ranges that account for 33%, 33-66%, and 66-100% \n",
    "# of the total dynamic contribution\n",
    "def get_three_range_from_eigenvalues(eval):\n",
    "    # Calculate the fractional contribution of each mode to the overall dynamics \n",
    "    # (the contribution is inversely proportional to the eigenvalues)\n",
    "    contri = (1 / eval) / (1 / eval).sum()\n",
    "    contri_sum = np.cumsum(contri)\n",
    "\n",
    "    # Identify mode ranges: 0-33%, 33-66%, and 66-100% of the dynamic contribution\n",
    "    index_1 = np.argmin(np.abs(contri_sum - 1/3))  # Mode contributing up to 33%\n",
    "    index_2 = np.argmin(np.abs(contri_sum - 0.5 * (1 + contri_sum[index_1])))  # Adjust for large initial contributions\n",
    "\n",
    "    mode_ranges = [np.arange(index_1 + 1), np.arange(index_1 + 1, index_2 + 1), np.arange(index_2 + 1, len(eval))]\n",
    "    return mode_ranges"
   ]
  },
  {
   "cell_type": "code",
   "execution_count": 13,
   "id": "c2a79461",
   "metadata": {},
   "outputs": [],
   "source": [
    "# Calculate mean square fluctuations (MSFs) and pairwise correlations from eigenvectors and eigenvalues\n",
    "# MSFs capture residue-level movements, and pairwise correlations reveal how residues move together\n",
    "def get_msf_and_cor_from_3N_eigen(mode_ranges, evec, eval, N):\n",
    "    msfs = []  # Store mean square fluctuations for each mode range\n",
    "    cors = []  # Store correlation matrices for each mode range\n",
    "    for mode_range in mode_ranges:\n",
    "        # Normalize eigenvectors to account for the contribution of eigenvalues\n",
    "        evec_normalize = evec[:, mode_range] / np.sqrt(eval[mode_range])\n",
    "\n",
    "        # Covariance matrix for all x, y, z coordinates of the Cα atoms\n",
    "        cov_3n = np.dot(evec_normalize, evec_normalize.T)\n",
    "\n",
    "        # Reduce the 3Nx3N covariance matrix to NxN by taking the trace (summed over x, y, z axes)\n",
    "        cov_n = np.trace(cov_3n.reshape((N, 3, N, 3)), axis1=1, axis2=3)\n",
    "\n",
    "        # Diagonal elements of cov_n give the mean square fluctuations for each residue\n",
    "        msf = np.diag(cov_n)\n",
    "\n",
    "        # Normalize the covariance matrix by MSFs to obtain a residue correlation map\n",
    "        cor_n = cov_n / np.sqrt(np.outer(msf, msf))\n",
    "\n",
    "        msfs.append(msf)\n",
    "        cors.append(cor_n)\n",
    "    return msfs, cors"
   ]
  },
  {
   "cell_type": "code",
   "execution_count": 14,
   "id": "91b19dff",
   "metadata": {},
   "outputs": [],
   "source": [
    "# Calculate MSFs using the Gaussian Network Model (GNM), which provides isotropic dynamics\n",
    "def calc_gnm_msf(calphas, N):\n",
    "    # Perform GNM analysis by building the Kirchhoff matrix\n",
    "    gnm = GNM('GNM analysis')\n",
    "    gnm.buildKirchhoff(calphas, cutoff=15, gamma=1.0)\n",
    "    gnm.calcModes(N)\n",
    "    eval = gnm.getEigvals()\n",
    "    evec = gnm.getEigvecs()\n",
    "\n",
    "    # Get MSFs for each of the three dynamic ranges\n",
    "    mode_ranges = get_three_range_from_eigenvalues(eval)\n",
    "    \n",
    "    # Calculate MSFs for each normal mode range\n",
    "    gnm_msf = []\n",
    "    for mode_range in mode_ranges:\n",
    "        gnm_msf.append(((evec[:, mode_range] * evec[:, mode_range]) / eval[mode_range]).sum(axis=1))\n",
    "    return np.array(gnm_msf)"
   ]
  },
  {
   "cell_type": "code",
   "execution_count": 15,
   "id": "bb1fef46",
   "metadata": {},
   "outputs": [],
   "source": [
    "def calc_anm_cor(calphas, N):\n",
    "    # Perform ANM analysis by building the Hessian matrix\n",
    "    anm = ANM('ANM analysis')\n",
    "    anm.buildHessian(calphas, cutoff=15, gamma=gammaDistanceDependent)\n",
    "    anm.calcModes(N * 3)\n",
    "    eval = anm.getEigvals()\n",
    "    evec = anm.getEigvecs()\n",
    "\n",
    "    # Get correlation maps for each of the three dynamic ranges\n",
    "    mode_ranges = get_three_range_from_eigenvalues(eval)\n",
    "    \n",
    "    # Calculate MSFs and correlation maps for each normal mode range\n",
    "    anm_msf, anm_cor = get_msf_and_cor_from_3N_eigen(mode_ranges, evec, eval, N)\n",
    "    return np.array(anm_cor)"
   ]
  },
  {
   "cell_type": "markdown",
   "id": "6702f898",
   "metadata": {},
   "source": [
    "### Experiments"
   ]
  },
  {
   "cell_type": "code",
   "execution_count": 9,
   "id": "12e2a71d",
   "metadata": {},
   "outputs": [
    {
     "name": "stderr",
     "output_type": "stream",
     "text": [
      "@> 2472 atoms and 1 coordinate set(s) were parsed in 0.01s.\n"
     ]
    },
    {
     "data": {
      "text/plain": [
       "158"
      ]
     },
     "execution_count": 9,
     "metadata": {},
     "output_type": "execute_result"
    }
   ],
   "source": [
    "protein = parsePDB('inputs/6FUD.relax.pdb')\n",
    "calphas = protein.select('calpha')\n",
    "N = len(calphas)\n",
    "N"
   ]
  },
  {
   "cell_type": "code",
   "execution_count": 10,
   "id": "3f9c571a",
   "metadata": {},
   "outputs": [
    {
     "name": "stderr",
     "output_type": "stream",
     "text": [
      "@> Kirchhoff was built in 0.01s.\n",
      "@> 157 modes were calculated in 0.04s.\n"
     ]
    }
   ],
   "source": [
    "gnm_msf = calc_gnm_msf(calphas, N)"
   ]
  },
  {
   "cell_type": "code",
   "execution_count": 30,
   "id": "b22bf407",
   "metadata": {},
   "outputs": [
    {
     "data": {
      "image/png": "[encoded data removed]",
      "text/plain": [
       "<Figure size 640x480 with 1 Axes>"
      ]
     },
     "metadata": {},
     "output_type": "display_data"
    }
   ],
   "source": [
    "import matplotlib.pyplot as plt\n",
    "\n",
    "resnum = list(range(0,158))\n",
    "\n",
    "for i in range(3):\n",
    "    plt.plot(resnum, gnm_msf[i])"
   ]
  },
  {
   "cell_type": "code",
   "execution_count": 18,
   "id": "9113c681",
   "metadata": {},
   "outputs": [
    {
     "name": "stderr",
     "output_type": "stream",
     "text": [
      "@> Hessian was built in 0.03s.\n",
      "@> 468 modes were calculated in 0.02s.\n"
     ]
    }
   ],
   "source": [
    "anm_cor = calc_anm_cor(calphas, N)"
   ]
  },
  {
   "cell_type": "code",
   "execution_count": null,
   "id": "aa2fb549",
   "metadata": {},
   "outputs": [
    {
     "data": {
      "text/plain": [
       "(158,)"
      ]
     },
     "execution_count": 21,
     "metadata": {},
     "output_type": "execute_result"
    }
   ],
   "source": [
    "anm_cor[0].shape"
   ]
  },
  {
   "cell_type": "code",
   "execution_count": 34,
   "id": "5ede0a19",
   "metadata": {},
   "outputs": [
    {
     "data": {
      "image/png": "[encoded data removed]",
      "text/plain": [
       "<Figure size 700x1000 with 3 Axes>"
      ]
     },
     "metadata": {},
     "output_type": "display_data"
    }
   ],
   "source": [
    "plt.figure(figsize=(7,10))\n",
    "for i in range(0,3):\n",
    "    plt.subplot(3,1,i+1)\n",
    "    plt.imshow(anm_cor[i])"
   ]
  },
  {
   "cell_type": "code",
   "execution_count": 36,
   "id": "2c574081",
   "metadata": {},
   "outputs": [],
   "source": [
    "from pathlib import Path\n",
    "output_dir = Path('nma/')\n",
    "output_dir.mkdir(parents=True, exist_ok=True)\n",
    "np.savez_compressed(str(output_dir / ('wt' + '.npz')), gnm_msf=gnm_msf, anm_cor=anm_cor)"
   ]
  },
  {
   "cell_type": "markdown",
   "id": "c319223c",
   "metadata": {},
   "source": [
    "### Functionalize"
   ]
  },
  {
   "cell_type": "code",
   "execution_count": 16,
   "id": "f660fa3e",
   "metadata": {},
   "outputs": [],
   "source": [
    "from pathlib import Path\n",
    "from typing import Union\n",
    "# functionalize a full run on a given mutant pdb\n",
    "def run_normal_mode_analysis(pdb_path: Union[str, Path], output_path: Union[str, Path]):\n",
    "    protein = parsePDB(str(pdb_path))\n",
    "    calphas = protein.select('calpha')\n",
    "    N = len(calphas)\n",
    "\n",
    "    gnm_msf = calc_gnm_msf(calphas, N)\n",
    "    anm_cor = calc_anm_cor(calphas, N)\n",
    "\n",
    "    np.savez_compressed(str(output_path), gnm_msf=gnm_msf, anm_cor=anm_cor)"
   ]
  },
  {
   "cell_type": "code",
   "execution_count": 17,
   "id": "8a7a684b",
   "metadata": {},
   "outputs": [],
   "source": [
    "from timeit import default_timer\n",
    "\n",
    "# Run on NMA on directory and record times\n",
    "def run_nma_on_dir(input_dir: Union[str, Path], output_dir: Union[str, Path]):\n",
    "    input_dir = Path(input_dir)\n",
    "    output_dir = Path(output_dir)\n",
    "    output_dir.mkdir(parents=True, exist_ok=True)\n",
    "\n",
    "    pdb_files = list(input_dir.glob('*.pdb'))\n",
    "\n",
    "    nma_times = []\n",
    "\n",
    "    for pdb in pdb_files:\n",
    "        output_path = output_dir / (pdb.stem + '.npz')\n",
    "        start_time = default_timer()\n",
    "        run_normal_mode_analysis(pdb, output_path)\n",
    "        nma_time = default_timer()-start_time\n",
    "        print(f'Time taken: {nma_time}')\n",
    "        nma_times.append(nma_time)\n",
    "    \n",
    "    total_time = sum(nma_times)\n",
    "    avg_time = total_time / len(pdb_files)\n",
    "    print(f'Total time: {total_time}')\n",
    "    print(f'Average time per mutant: {avg_time}')"
   ]
  },
  {
   "cell_type": "code",
   "execution_count": 18,
   "id": "b4044582",
   "metadata": {},
   "outputs": [
    {
     "name": "stderr",
     "output_type": "stream",
     "text": [
      "@> 2445 atoms and 1 coordinate set(s) were parsed in 0.02s.\n",
      "@> Kirchhoff was built in 0.02s.\n",
      "@> 157 modes were calculated in 0.02s.\n",
      "@> Hessian was built in 0.03s.\n",
      "@> 468 modes were calculated in 0.02s.\n",
      "@> 2462 atoms and 1 coordinate set(s) were parsed in 0.01s.\n",
      "@> Kirchhoff was built in 0.01s.\n",
      "@> 157 modes were calculated in 0.00s.\n",
      "@> Hessian was built in 0.03s.\n",
      "@> 468 modes were calculated in 0.02s.\n",
      "@> 2449 atoms and 1 coordinate set(s) were parsed in 0.01s.\n",
      "@> Kirchhoff was built in 0.01s.\n",
      "@> 157 modes were calculated in 0.00s.\n",
      "@> Hessian was built in 0.03s.\n",
      "@> 468 modes were calculated in 0.02s.\n"
     ]
    },
    {
     "name": "stdout",
     "output_type": "stream",
     "text": [
      "Time taken: 0.16255010000168113\n",
      "Time taken: 0.0952055570014636\n",
      "Time taken: 0.0971047390048625\n"
     ]
    },
    {
     "name": "stderr",
     "output_type": "stream",
     "text": [
      "@> 2498 atoms and 1 coordinate set(s) were parsed in 0.02s.\n",
      "@> Kirchhoff was built in 0.01s.\n",
      "@> 157 modes were calculated in 0.00s.\n",
      "@> Hessian was built in 0.04s.\n",
      "@> 468 modes were calculated in 0.02s.\n",
      "@> 2476 atoms and 1 coordinate set(s) were parsed in 0.01s.\n",
      "@> Kirchhoff was built in 0.01s.\n",
      "@> 157 modes were calculated in 0.01s.\n",
      "@> Hessian was built in 0.03s.\n",
      "@> 468 modes were calculated in 0.02s.\n",
      "@> 2477 atoms and 1 coordinate set(s) were parsed in 0.01s.\n",
      "@> Kirchhoff was built in 0.01s.\n",
      "@> 157 modes were calculated in 0.00s.\n",
      "@> Hessian was built in 0.03s.\n",
      "@> 468 modes were calculated in 0.02s.\n"
     ]
    },
    {
     "name": "stdout",
     "output_type": "stream",
     "text": [
      "Time taken: 0.11008975800359622\n",
      "Time taken: 0.09126245100196684\n",
      "Time taken: 0.10514639299799455\n"
     ]
    },
    {
     "name": "stderr",
     "output_type": "stream",
     "text": [
      "@> 2482 atoms and 1 coordinate set(s) were parsed in 0.01s.\n",
      "@> Kirchhoff was built in 0.00s.\n",
      "@> 157 modes were calculated in 0.00s.\n",
      "@> Hessian was built in 0.04s.\n",
      "@> 468 modes were calculated in 0.02s.\n",
      "@> 2501 atoms and 1 coordinate set(s) were parsed in 0.01s.\n",
      "@> Kirchhoff was built in 0.01s.\n",
      "@> 157 modes were calculated in 0.00s.\n",
      "@> Hessian was built in 0.03s.\n",
      "@> 468 modes were calculated in 0.02s.\n",
      "@> 2476 atoms and 1 coordinate set(s) were parsed in 0.01s.\n",
      "@> Kirchhoff was built in 0.01s.\n",
      "@> 157 modes were calculated in 0.00s.\n",
      "@> Hessian was built in 0.04s.\n",
      "@> 468 modes were calculated in 0.02s.\n"
     ]
    },
    {
     "name": "stdout",
     "output_type": "stream",
     "text": [
      "Time taken: 0.11127685899555217\n",
      "Time taken: 0.0977415059969644\n",
      "Time taken: 0.10236469100345857\n"
     ]
    },
    {
     "name": "stderr",
     "output_type": "stream",
     "text": [
      "@> 2495 atoms and 1 coordinate set(s) were parsed in 0.01s.\n",
      "@> Kirchhoff was built in 0.01s.\n",
      "@> 157 modes were calculated in 0.00s.\n",
      "@> Hessian was built in 0.04s.\n",
      "@> 468 modes were calculated in 0.02s.\n",
      "@> 2487 atoms and 1 coordinate set(s) were parsed in 0.01s.\n",
      "@> Kirchhoff was built in 0.01s.\n",
      "@> 157 modes were calculated in 0.00s.\n",
      "@> Hessian was built in 0.02s.\n",
      "@> 468 modes were calculated in 0.02s.\n",
      "@> 2469 atoms and 1 coordinate set(s) were parsed in 0.01s.\n",
      "@> Kirchhoff was built in 0.00s.\n",
      "@> 157 modes were calculated in 0.00s.\n",
      "@> Hessian was built in 0.02s.\n",
      "@> 468 modes were calculated in 0.02s.\n"
     ]
    },
    {
     "name": "stdout",
     "output_type": "stream",
     "text": [
      "Time taken: 0.10130531200411497\n",
      "Time taken: 0.0978955649989075\n",
      "Time taken: 0.09455996500037145\n"
     ]
    },
    {
     "name": "stderr",
     "output_type": "stream",
     "text": [
      "@> 2469 atoms and 1 coordinate set(s) were parsed in 0.01s.\n",
      "@> Kirchhoff was built in 0.00s.\n",
      "@> 157 modes were calculated in 0.00s.\n",
      "@> Hessian was built in 0.04s.\n",
      "@> 468 modes were calculated in 0.02s.\n",
      "@> 2467 atoms and 1 coordinate set(s) were parsed in 0.02s.\n",
      "@> Kirchhoff was built in 0.00s.\n",
      "@> 157 modes were calculated in 0.00s.\n",
      "@> Hessian was built in 0.04s.\n",
      "@> 468 modes were calculated in 0.02s.\n",
      "@> 2469 atoms and 1 coordinate set(s) were parsed in 0.01s.\n",
      "@> Kirchhoff was built in 0.00s.\n",
      "@> 157 modes were calculated in 0.00s.\n",
      "@> Hessian was built in 0.04s.\n",
      "@> 468 modes were calculated in 0.02s.\n"
     ]
    },
    {
     "name": "stdout",
     "output_type": "stream",
     "text": [
      "Time taken: 0.10540873600257328\n",
      "Time taken: 0.10825723900052253\n"
     ]
    },
    {
     "name": "stderr",
     "output_type": "stream",
     "text": [
      "@> 2451 atoms and 1 coordinate set(s) were parsed in 0.01s.\n",
      "@> Kirchhoff was built in 0.01s.\n",
      "@> 157 modes were calculated in 0.00s.\n",
      "@> Hessian was built in 0.03s.\n",
      "@> 468 modes were calculated in 0.02s.\n",
      "@> 2477 atoms and 1 coordinate set(s) were parsed in 0.01s.\n",
      "@> Kirchhoff was built in 0.01s.\n",
      "@> 157 modes were calculated in 0.00s.\n",
      "@> Hessian was built in 0.03s.\n",
      "@> 468 modes were calculated in 0.02s.\n"
     ]
    },
    {
     "name": "stdout",
     "output_type": "stream",
     "text": [
      "Time taken: 0.11578516999725252\n",
      "Time taken: 0.09531195900490275\n"
     ]
    },
    {
     "name": "stderr",
     "output_type": "stream",
     "text": [
      "@> 2496 atoms and 1 coordinate set(s) were parsed in 0.01s.\n",
      "@> Kirchhoff was built in 0.00s.\n",
      "@> 157 modes were calculated in 0.00s.\n",
      "@> Hessian was built in 0.03s.\n",
      "@> 468 modes were calculated in 0.02s.\n",
      "@> 2456 atoms and 1 coordinate set(s) were parsed in 0.01s.\n",
      "@> Kirchhoff was built in 0.01s.\n",
      "@> 157 modes were calculated in 0.00s.\n",
      "@> Hessian was built in 0.02s.\n",
      "@> 468 modes were calculated in 0.02s.\n",
      "@> 2474 atoms and 1 coordinate set(s) were parsed in 0.01s.\n"
     ]
    },
    {
     "name": "stdout",
     "output_type": "stream",
     "text": [
      "Time taken: 0.10882253599993419\n",
      "Time taken: 0.10314903199468972\n",
      "Time taken: 0.08418487200106028\n"
     ]
    },
    {
     "name": "stderr",
     "output_type": "stream",
     "text": [
      "@> Kirchhoff was built in 0.01s.\n",
      "@> 157 modes were calculated in 0.00s.\n",
      "@> Hessian was built in 0.03s.\n",
      "@> 468 modes were calculated in 0.02s.\n",
      "@> 2470 atoms and 1 coordinate set(s) were parsed in 0.01s.\n",
      "@> Kirchhoff was built in 0.01s.\n",
      "@> 157 modes were calculated in 0.00s.\n",
      "@> Hessian was built in 0.03s.\n",
      "@> 468 modes were calculated in 0.02s.\n",
      "@> 2465 atoms and 1 coordinate set(s) were parsed in 0.01s.\n",
      "@> Kirchhoff was built in 0.00s.\n",
      "@> 157 modes were calculated in 0.00s.\n",
      "@> Hessian was built in 0.03s.\n",
      "@> 468 modes were calculated in 0.02s.\n"
     ]
    },
    {
     "name": "stdout",
     "output_type": "stream",
     "text": [
      "Time taken: 0.09264164000342134\n",
      "Time taken: 0.10561537399917142\n",
      "Time taken: 0.08867241400002968\n"
     ]
    },
    {
     "name": "stderr",
     "output_type": "stream",
     "text": [
      "@> 2482 atoms and 1 coordinate set(s) were parsed in 0.02s.\n",
      "@> Kirchhoff was built in 0.01s.\n",
      "@> 157 modes were calculated in 0.00s.\n",
      "@> Hessian was built in 0.04s.\n",
      "@> 468 modes were calculated in 0.02s.\n",
      "@> 2480 atoms and 1 coordinate set(s) were parsed in 0.02s.\n",
      "@> Kirchhoff was built in 0.00s.\n",
      "@> 157 modes were calculated in 0.00s.\n",
      "@> Hessian was built in 0.03s.\n",
      "@> 468 modes were calculated in 0.02s.\n",
      "@> 2485 atoms and 1 coordinate set(s) were parsed in 0.01s.\n",
      "@> Kirchhoff was built in 0.01s.\n",
      "@> 157 modes were calculated in 0.00s.\n",
      "@> Hessian was built in 0.04s.\n",
      "@> 468 modes were calculated in 0.02s.\n"
     ]
    },
    {
     "name": "stdout",
     "output_type": "stream",
     "text": [
      "Time taken: 0.11111499300022842\n",
      "Time taken: 0.10884612700465368\n"
     ]
    },
    {
     "name": "stderr",
     "output_type": "stream",
     "text": [
      "@> 2480 atoms and 1 coordinate set(s) were parsed in 0.01s.\n",
      "@> Kirchhoff was built in 0.01s.\n",
      "@> 157 modes were calculated in 0.00s.\n",
      "@> Hessian was built in 0.03s.\n",
      "@> 468 modes were calculated in 0.02s.\n",
      "@> 2463 atoms and 1 coordinate set(s) were parsed in 0.01s.\n",
      "@> Kirchhoff was built in 0.01s.\n",
      "@> 157 modes were calculated in 0.00s.\n",
      "@> Hessian was built in 0.04s.\n",
      "@> 468 modes were calculated in 0.02s.\n"
     ]
    },
    {
     "name": "stdout",
     "output_type": "stream",
     "text": [
      "Time taken: 0.11854704699362628\n",
      "Time taken: 0.09896940599719528\n"
     ]
    },
    {
     "name": "stderr",
     "output_type": "stream",
     "text": [
      "@> 2486 atoms and 1 coordinate set(s) were parsed in 0.01s.\n",
      "@> Kirchhoff was built in 0.01s.\n",
      "@> 157 modes were calculated in 0.00s.\n",
      "@> Hessian was built in 0.03s.\n",
      "@> 468 modes were calculated in 0.02s.\n",
      "@> 2476 atoms and 1 coordinate set(s) were parsed in 0.01s.\n",
      "@> Kirchhoff was built in 0.01s.\n",
      "@> 157 modes were calculated in 0.00s.\n",
      "@> Hessian was built in 0.03s.\n",
      "@> 468 modes were calculated in 0.02s.\n"
     ]
    },
    {
     "name": "stdout",
     "output_type": "stream",
     "text": [
      "Time taken: 0.11362034500052687\n",
      "Time taken: 0.10856795700237853\n"
     ]
    },
    {
     "name": "stderr",
     "output_type": "stream",
     "text": [
      "@> 2473 atoms and 1 coordinate set(s) were parsed in 0.02s.\n",
      "@> Kirchhoff was built in 0.00s.\n",
      "@> 157 modes were calculated in 0.00s.\n",
      "@> Hessian was built in 0.04s.\n",
      "@> 468 modes were calculated in 0.02s.\n",
      "@> 2451 atoms and 1 coordinate set(s) were parsed in 0.01s.\n",
      "@> Kirchhoff was built in 0.00s.\n",
      "@> 157 modes were calculated in 0.00s.\n",
      "@> Hessian was built in 0.04s.\n",
      "@> 468 modes were calculated in 0.02s.\n"
     ]
    },
    {
     "name": "stdout",
     "output_type": "stream",
     "text": [
      "Time taken: 0.10351102899585385\n",
      "Time taken: 0.11498832800134551\n"
     ]
    },
    {
     "name": "stderr",
     "output_type": "stream",
     "text": [
      "@> 2472 atoms and 1 coordinate set(s) were parsed in 0.01s.\n",
      "@> Kirchhoff was built in 0.00s.\n",
      "@> 157 modes were calculated in 0.00s.\n",
      "@> Hessian was built in 0.04s.\n",
      "@> 468 modes were calculated in 0.02s.\n",
      "@> 2462 atoms and 1 coordinate set(s) were parsed in 0.02s.\n",
      "@> Kirchhoff was built in 0.00s.\n",
      "@> 157 modes were calculated in 0.00s.\n",
      "@> Hessian was built in 0.03s.\n",
      "@> 468 modes were calculated in 0.02s.\n"
     ]
    },
    {
     "name": "stdout",
     "output_type": "stream",
     "text": [
      "Time taken: 0.11979954499838641\n",
      "Time taken: 0.11663269400014542\n"
     ]
    },
    {
     "name": "stderr",
     "output_type": "stream",
     "text": [
      "@> 2487 atoms and 1 coordinate set(s) were parsed in 0.02s.\n",
      "@> Kirchhoff was built in 0.00s.\n",
      "@> 157 modes were calculated in 0.00s.\n",
      "@> Hessian was built in 0.04s.\n",
      "@> 468 modes were calculated in 0.02s.\n",
      "@> 2468 atoms and 1 coordinate set(s) were parsed in 0.01s.\n",
      "@> Kirchhoff was built in 0.01s.\n",
      "@> 157 modes were calculated in 0.00s.\n",
      "@> Hessian was built in 0.03s.\n",
      "@> 468 modes were calculated in 0.02s.\n"
     ]
    },
    {
     "name": "stdout",
     "output_type": "stream",
     "text": [
      "Time taken: 0.10258553300081985\n",
      "Time taken: 0.11995762800506782\n"
     ]
    },
    {
     "name": "stderr",
     "output_type": "stream",
     "text": [
      "@> 2470 atoms and 1 coordinate set(s) were parsed in 0.01s.\n",
      "@> Kirchhoff was built in 0.01s.\n",
      "@> 157 modes were calculated in 0.00s.\n",
      "@> Hessian was built in 0.04s.\n",
      "@> 468 modes were calculated in 0.02s.\n",
      "@> 2460 atoms and 1 coordinate set(s) were parsed in 0.01s.\n",
      "@> Kirchhoff was built in 0.00s.\n",
      "@> 157 modes were calculated in 0.00s.\n",
      "@> Hessian was built in 0.04s.\n",
      "@> 468 modes were calculated in 0.02s.\n"
     ]
    },
    {
     "name": "stdout",
     "output_type": "stream",
     "text": [
      "Time taken: 0.1108926419983618\n",
      "Time taken: 0.11642850100179203\n"
     ]
    },
    {
     "name": "stderr",
     "output_type": "stream",
     "text": [
      "@> 2489 atoms and 1 coordinate set(s) were parsed in 0.01s.\n",
      "@> Kirchhoff was built in 0.00s.\n",
      "@> 157 modes were calculated in 0.00s.\n",
      "@> Hessian was built in 0.03s.\n",
      "@> 468 modes were calculated in 0.02s.\n",
      "@> 2480 atoms and 1 coordinate set(s) were parsed in 0.01s.\n",
      "@> Kirchhoff was built in 0.00s.\n",
      "@> 157 modes were calculated in 0.00s.\n",
      "@> Hessian was built in 0.04s.\n",
      "@> 468 modes were calculated in 0.02s.\n"
     ]
    },
    {
     "name": "stdout",
     "output_type": "stream",
     "text": [
      "Time taken: 0.11001082100119675\n",
      "Time taken: 0.09817820099851815\n"
     ]
    },
    {
     "name": "stderr",
     "output_type": "stream",
     "text": [
      "@> 2475 atoms and 1 coordinate set(s) were parsed in 0.01s.\n",
      "@> Kirchhoff was built in 0.01s.\n",
      "@> 157 modes were calculated in 0.00s.\n",
      "@> Hessian was built in 0.03s.\n",
      "@> 468 modes were calculated in 0.02s.\n",
      "@> 2471 atoms and 1 coordinate set(s) were parsed in 0.01s.\n",
      "@> Kirchhoff was built in 0.00s.\n",
      "@> 157 modes were calculated in 0.00s.\n",
      "@> Hessian was built in 0.02s.\n",
      "@> 468 modes were calculated in 0.02s.\n"
     ]
    },
    {
     "name": "stdout",
     "output_type": "stream",
     "text": [
      "Time taken: 0.11231305899855215\n",
      "Time taken: 0.11128835999988951\n"
     ]
    },
    {
     "name": "stderr",
     "output_type": "stream",
     "text": [
      "@> 2482 atoms and 1 coordinate set(s) were parsed in 0.01s.\n",
      "@> Kirchhoff was built in 0.01s.\n",
      "@> 157 modes were calculated in 0.00s.\n",
      "@> Hessian was built in 0.02s.\n",
      "@> 468 modes were calculated in 0.02s.\n",
      "@> 2467 atoms and 1 coordinate set(s) were parsed in 0.02s.\n",
      "@> Kirchhoff was built in 0.00s.\n",
      "@> 157 modes were calculated in 0.00s.\n",
      "@> Hessian was built in 0.03s.\n",
      "@> 468 modes were calculated in 0.02s.\n"
     ]
    },
    {
     "name": "stdout",
     "output_type": "stream",
     "text": [
      "Time taken: 0.09218152399989776\n",
      "Time taken: 0.09692377199826296\n",
      "Time taken: 0.10125194600550458\n"
     ]
    },
    {
     "name": "stderr",
     "output_type": "stream",
     "text": [
      "@> 2487 atoms and 1 coordinate set(s) were parsed in 0.01s.\n",
      "@> Kirchhoff was built in 0.01s.\n",
      "@> 157 modes were calculated in 0.00s.\n",
      "@> Hessian was built in 0.03s.\n",
      "@> 468 modes were calculated in 0.02s.\n",
      "@> 2439 atoms and 1 coordinate set(s) were parsed in 0.02s.\n",
      "@> Kirchhoff was built in 0.00s.\n",
      "@> 157 modes were calculated in 0.00s.\n",
      "@> Hessian was built in 0.03s.\n",
      "@> 468 modes were calculated in 0.02s.\n",
      "@> 2484 atoms and 1 coordinate set(s) were parsed in 0.01s.\n",
      "@> Kirchhoff was built in 0.00s.\n",
      "@> 157 modes were calculated in 0.00s.\n",
      "@> Hessian was built in 0.02s.\n",
      "@> 468 modes were calculated in 0.02s.\n"
     ]
    },
    {
     "name": "stdout",
     "output_type": "stream",
     "text": [
      "Time taken: 0.0974549759994261\n",
      "Time taken: 0.10237534799671266\n",
      "Time taken: 0.09400505400117254\n"
     ]
    },
    {
     "name": "stderr",
     "output_type": "stream",
     "text": [
      "@> 2491 atoms and 1 coordinate set(s) were parsed in 0.01s.\n",
      "@> Kirchhoff was built in 0.00s.\n",
      "@> 157 modes were calculated in 0.00s.\n",
      "@> Hessian was built in 0.04s.\n",
      "@> 468 modes were calculated in 0.03s.\n",
      "@> 2458 atoms and 1 coordinate set(s) were parsed in 0.01s.\n",
      "@> Kirchhoff was built in 0.01s.\n",
      "@> 157 modes were calculated in 0.00s.\n",
      "@> Hessian was built in 0.04s.\n",
      "@> 468 modes were calculated in 0.02s.\n",
      "@> 2462 atoms and 1 coordinate set(s) were parsed in 0.01s.\n",
      "@> Kirchhoff was built in 0.00s.\n",
      "@> 157 modes were calculated in 0.00s.\n",
      "@> Hessian was built in 0.02s.\n",
      "@> 468 modes were calculated in 0.02s.\n"
     ]
    },
    {
     "name": "stdout",
     "output_type": "stream",
     "text": [
      "Time taken: 0.11496859500039136\n",
      "Time taken: 0.10914536200289149\n",
      "Time taken: 0.08823493299860274\n"
     ]
    },
    {
     "name": "stderr",
     "output_type": "stream",
     "text": [
      "@> 2477 atoms and 1 coordinate set(s) were parsed in 0.02s.\n",
      "@> Kirchhoff was built in 0.01s.\n",
      "@> 157 modes were calculated in 0.00s.\n",
      "@> Hessian was built in 0.03s.\n",
      "@> 468 modes were calculated in 0.02s.\n",
      "@> 2479 atoms and 1 coordinate set(s) were parsed in 0.01s.\n",
      "@> Kirchhoff was built in 0.00s.\n",
      "@> 157 modes were calculated in 0.00s.\n",
      "@> Hessian was built in 0.03s.\n",
      "@> 468 modes were calculated in 0.02s.\n",
      "@> 2467 atoms and 1 coordinate set(s) were parsed in 0.01s.\n",
      "@> Kirchhoff was built in 0.01s.\n",
      "@> 157 modes were calculated in 0.00s.\n",
      "@> Hessian was built in 0.03s.\n",
      "@> 468 modes were calculated in 0.02s.\n"
     ]
    },
    {
     "name": "stdout",
     "output_type": "stream",
     "text": [
      "Time taken: 0.09328469100000802\n",
      "Time taken: 0.1084092880046228\n"
     ]
    },
    {
     "name": "stderr",
     "output_type": "stream",
     "text": [
      "@> 2485 atoms and 1 coordinate set(s) were parsed in 0.02s.\n",
      "@> Kirchhoff was built in 0.00s.\n",
      "@> 157 modes were calculated in 0.00s.\n",
      "@> Hessian was built in 0.03s.\n",
      "@> 468 modes were calculated in 0.02s.\n",
      "@> 2490 atoms and 1 coordinate set(s) were parsed in 0.02s.\n",
      "@> Kirchhoff was built in 0.00s.\n",
      "@> 157 modes were calculated in 0.00s.\n",
      "@> Hessian was built in 0.04s.\n",
      "@> 468 modes were calculated in 0.02s.\n"
     ]
    },
    {
     "name": "stdout",
     "output_type": "stream",
     "text": [
      "Time taken: 0.09984899099799804\n",
      "Time taken: 0.11394219900103053\n"
     ]
    },
    {
     "name": "stderr",
     "output_type": "stream",
     "text": [
      "@> 2449 atoms and 1 coordinate set(s) were parsed in 0.01s.\n",
      "@> Kirchhoff was built in 0.00s.\n",
      "@> 157 modes were calculated in 0.00s.\n",
      "@> Hessian was built in 0.04s.\n",
      "@> 468 modes were calculated in 0.02s.\n",
      "@> 2472 atoms and 1 coordinate set(s) were parsed in 0.01s.\n",
      "@> Kirchhoff was built in 0.00s.\n",
      "@> 157 modes were calculated in 0.00s.\n",
      "@> Hessian was built in 0.03s.\n",
      "@> 468 modes were calculated in 0.02s.\n"
     ]
    },
    {
     "name": "stdout",
     "output_type": "stream",
     "text": [
      "Time taken: 0.11923642300098436\n",
      "Time taken: 0.12079311800334835\n"
     ]
    },
    {
     "name": "stderr",
     "output_type": "stream",
     "text": [
      "@> 2448 atoms and 1 coordinate set(s) were parsed in 0.01s.\n",
      "@> Kirchhoff was built in 0.00s.\n",
      "@> 157 modes were calculated in 0.00s.\n",
      "@> Hessian was built in 0.02s.\n",
      "@> 468 modes were calculated in 0.02s.\n",
      "@> 2464 atoms and 1 coordinate set(s) were parsed in 0.01s.\n",
      "@> Kirchhoff was built in 0.00s.\n",
      "@> 157 modes were calculated in 0.00s.\n",
      "@> Hessian was built in 0.04s.\n",
      "@> 468 modes were calculated in 0.02s.\n"
     ]
    },
    {
     "name": "stdout",
     "output_type": "stream",
     "text": [
      "Time taken: 0.10831238299579127\n",
      "Time taken: 0.09412268699816195\n"
     ]
    },
    {
     "name": "stderr",
     "output_type": "stream",
     "text": [
      "@> 2468 atoms and 1 coordinate set(s) were parsed in 0.01s.\n",
      "@> Kirchhoff was built in 0.01s.\n",
      "@> 157 modes were calculated in 0.00s.\n",
      "@> Hessian was built in 0.03s.\n",
      "@> 468 modes were calculated in 0.02s.\n",
      "@> 2449 atoms and 1 coordinate set(s) were parsed in 0.01s.\n",
      "@> Kirchhoff was built in 0.01s.\n",
      "@> 157 modes were calculated in 0.00s.\n",
      "@> Hessian was built in 0.04s.\n",
      "@> 468 modes were calculated in 0.02s.\n"
     ]
    },
    {
     "name": "stdout",
     "output_type": "stream",
     "text": [
      "Time taken: 0.11525169800006552\n",
      "Time taken: 0.10527703200204996\n"
     ]
    },
    {
     "name": "stderr",
     "output_type": "stream",
     "text": [
      "@> 2485 atoms and 1 coordinate set(s) were parsed in 0.01s.\n",
      "@> Kirchhoff was built in 0.00s.\n",
      "@> 157 modes were calculated in 0.00s.\n",
      "@> Hessian was built in 0.03s.\n",
      "@> 468 modes were calculated in 0.02s.\n",
      "@> 2470 atoms and 1 coordinate set(s) were parsed in 0.01s.\n",
      "@> Kirchhoff was built in 0.00s.\n",
      "@> 157 modes were calculated in 0.00s.\n",
      "@> Hessian was built in 0.04s.\n",
      "@> 468 modes were calculated in 0.02s.\n"
     ]
    },
    {
     "name": "stdout",
     "output_type": "stream",
     "text": [
      "Time taken: 0.11039595599868335\n",
      "Time taken: 0.0993079879990546\n"
     ]
    },
    {
     "name": "stderr",
     "output_type": "stream",
     "text": [
      "@> 2493 atoms and 1 coordinate set(s) were parsed in 0.01s.\n",
      "@> Kirchhoff was built in 0.00s.\n",
      "@> 157 modes were calculated in 0.00s.\n",
      "@> Hessian was built in 0.04s.\n",
      "@> 468 modes were calculated in 0.02s.\n",
      "@> 2471 atoms and 1 coordinate set(s) were parsed in 0.01s.\n",
      "@> Kirchhoff was built in 0.01s.\n",
      "@> 157 modes were calculated in 0.00s.\n",
      "@> Hessian was built in 0.03s.\n",
      "@> 468 modes were calculated in 0.02s.\n"
     ]
    },
    {
     "name": "stdout",
     "output_type": "stream",
     "text": [
      "Time taken: 0.11487370100076078\n",
      "Time taken: 0.11453111200535204\n"
     ]
    },
    {
     "name": "stderr",
     "output_type": "stream",
     "text": [
      "@> 2480 atoms and 1 coordinate set(s) were parsed in 0.02s.\n",
      "@> Kirchhoff was built in 0.00s.\n",
      "@> 157 modes were calculated in 0.00s.\n",
      "@> Hessian was built in 0.03s.\n",
      "@> 468 modes were calculated in 0.02s.\n",
      "@> 2482 atoms and 1 coordinate set(s) were parsed in 0.01s.\n",
      "@> Kirchhoff was built in 0.01s.\n",
      "@> 157 modes were calculated in 0.00s.\n",
      "@> Hessian was built in 0.03s.\n",
      "@> 468 modes were calculated in 0.02s.\n"
     ]
    },
    {
     "name": "stdout",
     "output_type": "stream",
     "text": [
      "Time taken: 0.10327799199876608\n",
      "Time taken: 0.11001017400121782\n"
     ]
    },
    {
     "name": "stderr",
     "output_type": "stream",
     "text": [
      "@> 2470 atoms and 1 coordinate set(s) were parsed in 0.01s.\n",
      "@> Kirchhoff was built in 0.01s.\n",
      "@> 157 modes were calculated in 0.00s.\n",
      "@> Hessian was built in 0.02s.\n",
      "@> 468 modes were calculated in 0.02s.\n",
      "@> 2477 atoms and 1 coordinate set(s) were parsed in 0.02s.\n",
      "@> Kirchhoff was built in 0.00s.\n",
      "@> 157 modes were calculated in 0.01s.\n",
      "@> Hessian was built in 0.03s.\n",
      "@> 468 modes were calculated in 0.02s.\n"
     ]
    },
    {
     "name": "stdout",
     "output_type": "stream",
     "text": [
      "Time taken: 0.09574708800209919\n",
      "Time taken: 0.09734159299841849\n"
     ]
    },
    {
     "name": "stderr",
     "output_type": "stream",
     "text": [
      "@> 2471 atoms and 1 coordinate set(s) were parsed in 0.01s.\n",
      "@> Kirchhoff was built in 0.01s.\n",
      "@> 157 modes were calculated in 0.00s.\n",
      "@> Hessian was built in 0.04s.\n",
      "@> 468 modes were calculated in 0.02s.\n",
      "@> 2481 atoms and 1 coordinate set(s) were parsed in 0.01s.\n",
      "@> Kirchhoff was built in 0.00s.\n",
      "@> 157 modes were calculated in 0.00s.\n",
      "@> Hessian was built in 0.04s.\n",
      "@> 468 modes were calculated in 0.02s.\n"
     ]
    },
    {
     "name": "stdout",
     "output_type": "stream",
     "text": [
      "Time taken: 0.1127328380025574\n",
      "Time taken: 0.11914825699932408\n"
     ]
    },
    {
     "name": "stderr",
     "output_type": "stream",
     "text": [
      "@> 2495 atoms and 1 coordinate set(s) were parsed in 0.01s.\n",
      "@> Kirchhoff was built in 0.01s.\n",
      "@> 157 modes were calculated in 0.00s.\n",
      "@> Hessian was built in 0.03s.\n",
      "@> 468 modes were calculated in 0.02s.\n",
      "@> 2480 atoms and 1 coordinate set(s) were parsed in 0.01s.\n",
      "@> Kirchhoff was built in 0.01s.\n",
      "@> 157 modes were calculated in 0.00s.\n",
      "@> Hessian was built in 0.04s.\n",
      "@> 468 modes were calculated in 0.02s.\n"
     ]
    },
    {
     "name": "stdout",
     "output_type": "stream",
     "text": [
      "Time taken: 0.10164952000195626\n",
      "Time taken: 0.10170341299817665\n"
     ]
    },
    {
     "name": "stderr",
     "output_type": "stream",
     "text": [
      "@> 2469 atoms and 1 coordinate set(s) were parsed in 0.02s.\n",
      "@> Kirchhoff was built in 0.01s.\n",
      "@> 157 modes were calculated in 0.00s.\n",
      "@> Hessian was built in 0.04s.\n",
      "@> 468 modes were calculated in 0.02s.\n",
      "@> 2479 atoms and 1 coordinate set(s) were parsed in 0.01s.\n",
      "@> Kirchhoff was built in 0.00s.\n",
      "@> 157 modes were calculated in 0.00s.\n",
      "@> Hessian was built in 0.03s.\n",
      "@> 468 modes were calculated in 0.02s.\n"
     ]
    },
    {
     "name": "stdout",
     "output_type": "stream",
     "text": [
      "Time taken: 0.11991884699818911\n",
      "Time taken: 0.12318979799601948\n"
     ]
    },
    {
     "name": "stderr",
     "output_type": "stream",
     "text": [
      "@> 2476 atoms and 1 coordinate set(s) were parsed in 0.01s.\n",
      "@> Kirchhoff was built in 0.01s.\n",
      "@> 157 modes were calculated in 0.00s.\n",
      "@> Hessian was built in 0.03s.\n",
      "@> 468 modes were calculated in 0.02s.\n",
      "@> 2479 atoms and 1 coordinate set(s) were parsed in 0.01s.\n",
      "@> Kirchhoff was built in 0.00s.\n",
      "@> 157 modes were calculated in 0.00s.\n",
      "@> Hessian was built in 0.03s.\n",
      "@> 468 modes were calculated in 0.02s.\n"
     ]
    },
    {
     "name": "stdout",
     "output_type": "stream",
     "text": [
      "Time taken: 0.09438938599487301\n",
      "Time taken: 0.10797261400148273\n"
     ]
    },
    {
     "name": "stderr",
     "output_type": "stream",
     "text": [
      "@> 2472 atoms and 1 coordinate set(s) were parsed in 0.02s.\n",
      "@> Kirchhoff was built in 0.00s.\n",
      "@> 157 modes were calculated in 0.00s.\n",
      "@> Hessian was built in 0.04s.\n",
      "@> 468 modes were calculated in 0.02s.\n",
      "@> 2487 atoms and 1 coordinate set(s) were parsed in 0.01s.\n",
      "@> Kirchhoff was built in 0.00s.\n",
      "@> 157 modes were calculated in 0.00s.\n",
      "@> Hessian was built in 0.04s.\n",
      "@> 468 modes were calculated in 0.02s.\n"
     ]
    },
    {
     "name": "stdout",
     "output_type": "stream",
     "text": [
      "Time taken: 0.09713322699826676\n",
      "Time taken: 0.11260171899630222\n"
     ]
    },
    {
     "name": "stderr",
     "output_type": "stream",
     "text": [
      "@> 2482 atoms and 1 coordinate set(s) were parsed in 0.01s.\n",
      "@> Kirchhoff was built in 0.01s.\n",
      "@> 157 modes were calculated in 0.00s.\n",
      "@> Hessian was built in 0.04s.\n",
      "@> 468 modes were calculated in 0.02s.\n",
      "@> 2471 atoms and 1 coordinate set(s) were parsed in 0.01s.\n",
      "@> Kirchhoff was built in 0.01s.\n",
      "@> 157 modes were calculated in 0.00s.\n",
      "@> Hessian was built in 0.03s.\n",
      "@> 468 modes were calculated in 0.02s.\n"
     ]
    },
    {
     "name": "stdout",
     "output_type": "stream",
     "text": [
      "Time taken: 0.11107981100212783\n",
      "Time taken: 0.1109389090051991\n"
     ]
    },
    {
     "name": "stderr",
     "output_type": "stream",
     "text": [
      "@> 2475 atoms and 1 coordinate set(s) were parsed in 0.01s.\n",
      "@> Kirchhoff was built in 0.01s.\n",
      "@> 157 modes were calculated in 0.00s.\n",
      "@> Hessian was built in 0.04s.\n",
      "@> 468 modes were calculated in 0.02s.\n",
      "@> 2480 atoms and 1 coordinate set(s) were parsed in 0.01s.\n",
      "@> Kirchhoff was built in 0.00s.\n",
      "@> 157 modes were calculated in 0.00s.\n",
      "@> Hessian was built in 0.03s.\n",
      "@> 468 modes were calculated in 0.02s.\n"
     ]
    },
    {
     "name": "stdout",
     "output_type": "stream",
     "text": [
      "Time taken: 0.10786773500149138\n",
      "Time taken: 0.11859131699748104\n"
     ]
    },
    {
     "name": "stderr",
     "output_type": "stream",
     "text": [
      "@> 2482 atoms and 1 coordinate set(s) were parsed in 0.01s.\n",
      "@> Kirchhoff was built in 0.01s.\n",
      "@> 157 modes were calculated in 0.00s.\n",
      "@> Hessian was built in 0.04s.\n",
      "@> 468 modes were calculated in 0.02s.\n",
      "@> 2467 atoms and 1 coordinate set(s) were parsed in 0.01s.\n",
      "@> Kirchhoff was built in 0.01s.\n",
      "@> 157 modes were calculated in 0.00s.\n",
      "@> Hessian was built in 0.03s.\n",
      "@> 468 modes were calculated in 0.02s.\n"
     ]
    },
    {
     "name": "stdout",
     "output_type": "stream",
     "text": [
      "Time taken: 0.09928089699678821\n",
      "Time taken: 0.11376751300122123\n"
     ]
    },
    {
     "name": "stderr",
     "output_type": "stream",
     "text": [
      "@> 2505 atoms and 1 coordinate set(s) were parsed in 0.02s.\n",
      "@> Kirchhoff was built in 0.01s.\n",
      "@> 157 modes were calculated in 0.00s.\n",
      "@> Hessian was built in 0.03s.\n",
      "@> 468 modes were calculated in 0.02s.\n",
      "@> 2460 atoms and 1 coordinate set(s) were parsed in 0.01s.\n",
      "@> Kirchhoff was built in 0.01s.\n",
      "@> 157 modes were calculated in 0.00s.\n",
      "@> Hessian was built in 0.02s.\n",
      "@> 468 modes were calculated in 0.02s.\n"
     ]
    },
    {
     "name": "stdout",
     "output_type": "stream",
     "text": [
      "Time taken: 0.10138622899830807\n",
      "Time taken: 0.10618530600186205\n"
     ]
    },
    {
     "name": "stderr",
     "output_type": "stream",
     "text": [
      "@> 2480 atoms and 1 coordinate set(s) were parsed in 0.01s.\n",
      "@> Kirchhoff was built in 0.00s.\n",
      "@> 157 modes were calculated in 0.00s.\n",
      "@> Hessian was built in 0.03s.\n",
      "@> 468 modes were calculated in 0.02s.\n",
      "@> 2464 atoms and 1 coordinate set(s) were parsed in 0.01s.\n",
      "@> Kirchhoff was built in 0.01s.\n",
      "@> 157 modes were calculated in 0.00s.\n",
      "@> Hessian was built in 0.03s.\n",
      "@> 468 modes were calculated in 0.02s.\n"
     ]
    },
    {
     "name": "stdout",
     "output_type": "stream",
     "text": [
      "Time taken: 0.09703763099969365\n",
      "Time taken: 0.09662588199716993\n",
      "Time taken: 0.09282963700388791\n"
     ]
    },
    {
     "name": "stderr",
     "output_type": "stream",
     "text": [
      "@> 2476 atoms and 1 coordinate set(s) were parsed in 0.01s.\n",
      "@> Kirchhoff was built in 0.01s.\n",
      "@> 157 modes were calculated in 0.00s.\n",
      "@> Hessian was built in 0.03s.\n",
      "@> 468 modes were calculated in 0.02s.\n",
      "@> 2467 atoms and 1 coordinate set(s) were parsed in 0.01s.\n",
      "@> Kirchhoff was built in 0.00s.\n",
      "@> 157 modes were calculated in 0.00s.\n",
      "@> Hessian was built in 0.04s.\n",
      "@> 468 modes were calculated in 0.02s.\n",
      "@> 2475 atoms and 1 coordinate set(s) were parsed in 0.01s.\n",
      "@> Kirchhoff was built in 0.01s.\n",
      "@> 157 modes were calculated in 0.00s.\n",
      "@> Hessian was built in 0.04s.\n",
      "@> 468 modes were calculated in 0.02s.\n"
     ]
    },
    {
     "name": "stdout",
     "output_type": "stream",
     "text": [
      "Time taken: 0.09850100099720294\n",
      "Time taken: 0.10801631499634823\n"
     ]
    },
    {
     "name": "stderr",
     "output_type": "stream",
     "text": [
      "@> 2469 atoms and 1 coordinate set(s) were parsed in 0.01s.\n",
      "@> Kirchhoff was built in 0.01s.\n",
      "@> 157 modes were calculated in 0.00s.\n",
      "@> Hessian was built in 0.03s.\n",
      "@> 468 modes were calculated in 0.02s.\n",
      "@> 2477 atoms and 1 coordinate set(s) were parsed in 0.01s.\n",
      "@> Kirchhoff was built in 0.01s.\n",
      "@> 157 modes were calculated in 0.00s.\n",
      "@> Hessian was built in 0.04s.\n",
      "@> 468 modes were calculated in 0.02s.\n"
     ]
    },
    {
     "name": "stdout",
     "output_type": "stream",
     "text": [
      "Time taken: 0.11279505400307244\n",
      "Time taken: 0.10171043500304222\n"
     ]
    },
    {
     "name": "stderr",
     "output_type": "stream",
     "text": [
      "@> 2475 atoms and 1 coordinate set(s) were parsed in 0.01s.\n",
      "@> Kirchhoff was built in 0.01s.\n",
      "@> 157 modes were calculated in 0.00s.\n",
      "@> Hessian was built in 0.04s.\n",
      "@> 468 modes were calculated in 0.02s.\n",
      "@> 2469 atoms and 1 coordinate set(s) were parsed in 0.02s.\n",
      "@> Kirchhoff was built in 0.01s.\n",
      "@> 157 modes were calculated in 0.00s.\n",
      "@> Hessian was built in 0.03s.\n"
     ]
    },
    {
     "name": "stdout",
     "output_type": "stream",
     "text": [
      "Time taken: 0.10305884899571538\n",
      "Time taken: 0.12946403100067982\n"
     ]
    },
    {
     "name": "stderr",
     "output_type": "stream",
     "text": [
      "@> 468 modes were calculated in 0.02s.\n",
      "@> 2471 atoms and 1 coordinate set(s) were parsed in 0.01s.\n",
      "@> Kirchhoff was built in 0.00s.\n",
      "@> 157 modes were calculated in 0.00s.\n",
      "@> Hessian was built in 0.04s.\n",
      "@> 468 modes were calculated in 0.02s.\n",
      "@> 2468 atoms and 1 coordinate set(s) were parsed in 0.01s.\n",
      "@> Kirchhoff was built in 0.00s.\n",
      "@> 157 modes were calculated in 0.00s.\n",
      "@> Hessian was built in 0.04s.\n",
      "@> 468 modes were calculated in 0.02s.\n"
     ]
    },
    {
     "name": "stdout",
     "output_type": "stream",
     "text": [
      "Time taken: 0.12400448699918343\n",
      "Time taken: 0.11668057800125098\n"
     ]
    },
    {
     "name": "stderr",
     "output_type": "stream",
     "text": [
      "@> 2461 atoms and 1 coordinate set(s) were parsed in 0.01s.\n",
      "@> Kirchhoff was built in 0.01s.\n",
      "@> 157 modes were calculated in 0.00s.\n",
      "@> Hessian was built in 0.04s.\n",
      "@> 468 modes were calculated in 0.02s.\n",
      "@> 2462 atoms and 1 coordinate set(s) were parsed in 0.01s.\n",
      "@> Kirchhoff was built in 0.01s.\n",
      "@> 157 modes were calculated in 0.00s.\n",
      "@> Hessian was built in 0.03s.\n",
      "@> 468 modes were calculated in 0.02s.\n"
     ]
    },
    {
     "name": "stdout",
     "output_type": "stream",
     "text": [
      "Time taken: 0.10942255199915962\n",
      "Time taken: 0.10479532700264826\n"
     ]
    },
    {
     "name": "stderr",
     "output_type": "stream",
     "text": [
      "@> 2468 atoms and 1 coordinate set(s) were parsed in 0.01s.\n",
      "@> Kirchhoff was built in 0.01s.\n",
      "@> 157 modes were calculated in 0.00s.\n",
      "@> Hessian was built in 0.04s.\n",
      "@> 468 modes were calculated in 0.02s.\n",
      "@> 2455 atoms and 1 coordinate set(s) were parsed in 0.02s.\n",
      "@> Kirchhoff was built in 0.00s.\n",
      "@> 157 modes were calculated in 0.00s.\n",
      "@> Hessian was built in 0.03s.\n",
      "@> 468 modes were calculated in 0.02s.\n"
     ]
    },
    {
     "name": "stdout",
     "output_type": "stream",
     "text": [
      "Time taken: 0.1063664319954114\n",
      "Time taken: 0.10779737700067926\n"
     ]
    },
    {
     "name": "stderr",
     "output_type": "stream",
     "text": [
      "@> 2477 atoms and 1 coordinate set(s) were parsed in 0.01s.\n",
      "@> Kirchhoff was built in 0.01s.\n",
      "@> 157 modes were calculated in 0.00s.\n",
      "@> Hessian was built in 0.02s.\n",
      "@> 468 modes were calculated in 0.02s.\n",
      "@> 2460 atoms and 1 coordinate set(s) were parsed in 0.01s.\n",
      "@> Kirchhoff was built in 0.01s.\n",
      "@> 157 modes were calculated in 0.00s.\n",
      "@> Hessian was built in 0.03s.\n",
      "@> 468 modes were calculated in 0.02s.\n"
     ]
    },
    {
     "name": "stdout",
     "output_type": "stream",
     "text": [
      "Time taken: 0.1038442689969088\n",
      "Time taken: 0.0935796539997682\n",
      "Time taken: 0.09507690199825447\n"
     ]
    },
    {
     "name": "stderr",
     "output_type": "stream",
     "text": [
      "@> 2473 atoms and 1 coordinate set(s) were parsed in 0.01s.\n",
      "@> Kirchhoff was built in 0.01s.\n",
      "@> 157 modes were calculated in 0.00s.\n",
      "@> Hessian was built in 0.04s.\n",
      "@> 468 modes were calculated in 0.02s.\n",
      "@> 2439 atoms and 1 coordinate set(s) were parsed in 0.01s.\n",
      "@> Kirchhoff was built in 0.01s.\n",
      "@> 157 modes were calculated in 0.00s.\n",
      "@> Hessian was built in 0.04s.\n",
      "@> 468 modes were calculated in 0.02s.\n",
      "@> 2486 atoms and 1 coordinate set(s) were parsed in 0.01s.\n",
      "@> Kirchhoff was built in 0.01s.\n",
      "@> 157 modes were calculated in 0.00s.\n",
      "@> Hessian was built in 0.03s.\n",
      "@> 468 modes were calculated in 0.02s.\n"
     ]
    },
    {
     "name": "stdout",
     "output_type": "stream",
     "text": [
      "Time taken: 0.10051685199869098\n",
      "Time taken: 0.11547702100506285\n"
     ]
    },
    {
     "name": "stderr",
     "output_type": "stream",
     "text": [
      "@> 2468 atoms and 1 coordinate set(s) were parsed in 0.01s.\n",
      "@> Kirchhoff was built in 0.01s.\n",
      "@> 157 modes were calculated in 0.00s.\n",
      "@> Hessian was built in 0.04s.\n",
      "@> 468 modes were calculated in 0.02s.\n",
      "@> 2467 atoms and 1 coordinate set(s) were parsed in 0.02s.\n",
      "@> Kirchhoff was built in 0.01s.\n",
      "@> 157 modes were calculated in 0.00s.\n",
      "@> Hessian was built in 0.03s.\n",
      "@> 468 modes were calculated in 0.02s.\n"
     ]
    },
    {
     "name": "stdout",
     "output_type": "stream",
     "text": [
      "Time taken: 0.0950833099996089\n",
      "Time taken: 0.10629187699669274\n"
     ]
    },
    {
     "name": "stderr",
     "output_type": "stream",
     "text": [
      "@> 2490 atoms and 1 coordinate set(s) were parsed in 0.01s.\n",
      "@> Kirchhoff was built in 0.00s.\n",
      "@> 157 modes were calculated in 0.00s.\n",
      "@> Hessian was built in 0.04s.\n",
      "@> 468 modes were calculated in 0.02s.\n",
      "@> 2456 atoms and 1 coordinate set(s) were parsed in 0.01s.\n",
      "@> Kirchhoff was built in 0.01s.\n",
      "@> 157 modes were calculated in 0.00s.\n",
      "@> Hessian was built in 0.04s.\n",
      "@> 468 modes were calculated in 0.02s.\n"
     ]
    },
    {
     "name": "stdout",
     "output_type": "stream",
     "text": [
      "Time taken: 0.11044049000338418\n",
      "Time taken: 0.10211980900203343\n"
     ]
    },
    {
     "name": "stderr",
     "output_type": "stream",
     "text": [
      "@> 2475 atoms and 1 coordinate set(s) were parsed in 0.01s.\n",
      "@> Kirchhoff was built in 0.00s.\n",
      "@> 157 modes were calculated in 0.00s.\n",
      "@> Hessian was built in 0.03s.\n",
      "@> 468 modes were calculated in 0.02s.\n",
      "@> 2457 atoms and 1 coordinate set(s) were parsed in 0.02s.\n",
      "@> Kirchhoff was built in 0.00s.\n",
      "@> 157 modes were calculated in 0.00s.\n",
      "@> Hessian was built in 0.04s.\n",
      "@> 468 modes were calculated in 0.02s.\n"
     ]
    },
    {
     "name": "stdout",
     "output_type": "stream",
     "text": [
      "Time taken: 0.1116242179996334\n",
      "Time taken: 0.1015632380003808\n"
     ]
    },
    {
     "name": "stderr",
     "output_type": "stream",
     "text": [
      "@> 2462 atoms and 1 coordinate set(s) were parsed in 0.01s.\n",
      "@> Kirchhoff was built in 0.01s.\n",
      "@> 157 modes were calculated in 0.00s.\n",
      "@> Hessian was built in 0.04s.\n",
      "@> 468 modes were calculated in 0.02s.\n",
      "@> 2466 atoms and 1 coordinate set(s) were parsed in 0.01s.\n",
      "@> Kirchhoff was built in 0.01s.\n",
      "@> 157 modes were calculated in 0.00s.\n",
      "@> Hessian was built in 0.04s.\n",
      "@> 468 modes were calculated in 0.02s.\n"
     ]
    },
    {
     "name": "stdout",
     "output_type": "stream",
     "text": [
      "Time taken: 0.12261976599984337\n",
      "Time taken: 0.10773502699885285\n"
     ]
    },
    {
     "name": "stderr",
     "output_type": "stream",
     "text": [
      "@> 2469 atoms and 1 coordinate set(s) were parsed in 0.01s.\n",
      "@> Kirchhoff was built in 0.01s.\n",
      "@> 157 modes were calculated in 0.00s.\n",
      "@> Hessian was built in 0.03s.\n",
      "@> 468 modes were calculated in 0.02s.\n",
      "@> 2468 atoms and 1 coordinate set(s) were parsed in 0.02s.\n",
      "@> Kirchhoff was built in 0.01s.\n",
      "@> 157 modes were calculated in 0.00s.\n",
      "@> Hessian was built in 0.04s.\n",
      "@> 468 modes were calculated in 0.02s.\n"
     ]
    },
    {
     "name": "stdout",
     "output_type": "stream",
     "text": [
      "Time taken: 0.10819124100089539\n",
      "Time taken: 0.10371513000427512\n"
     ]
    },
    {
     "name": "stderr",
     "output_type": "stream",
     "text": [
      "@> 2464 atoms and 1 coordinate set(s) were parsed in 0.01s.\n",
      "@> Kirchhoff was built in 0.01s.\n",
      "@> 157 modes were calculated in 0.00s.\n",
      "@> Hessian was built in 0.03s.\n",
      "@> 468 modes were calculated in 0.02s.\n",
      "@> 2463 atoms and 1 coordinate set(s) were parsed in 0.01s.\n",
      "@> Kirchhoff was built in 0.00s.\n",
      "@> 157 modes were calculated in 0.00s.\n",
      "@> Hessian was built in 0.03s.\n",
      "@> 468 modes were calculated in 0.02s.\n"
     ]
    },
    {
     "name": "stdout",
     "output_type": "stream",
     "text": [
      "Time taken: 0.11951204000069993\n",
      "Time taken: 0.11184537900408031\n"
     ]
    },
    {
     "name": "stderr",
     "output_type": "stream",
     "text": [
      "@> 2494 atoms and 1 coordinate set(s) were parsed in 0.01s.\n",
      "@> Kirchhoff was built in 0.01s.\n",
      "@> 157 modes were calculated in 0.00s.\n",
      "@> Hessian was built in 0.04s.\n",
      "@> 468 modes were calculated in 0.02s.\n",
      "@> 2483 atoms and 1 coordinate set(s) were parsed in 0.01s.\n",
      "@> Kirchhoff was built in 0.01s.\n",
      "@> 157 modes were calculated in 0.00s.\n",
      "@> Hessian was built in 0.03s.\n",
      "@> 468 modes were calculated in 0.02s.\n"
     ]
    },
    {
     "name": "stdout",
     "output_type": "stream",
     "text": [
      "Time taken: 0.09734548500273377\n",
      "Time taken: 0.1034666310006287\n"
     ]
    },
    {
     "name": "stderr",
     "output_type": "stream",
     "text": [
      "@> 2475 atoms and 1 coordinate set(s) were parsed in 0.01s.\n",
      "@> Kirchhoff was built in 0.01s.\n",
      "@> 157 modes were calculated in 0.00s.\n",
      "@> Hessian was built in 0.04s.\n",
      "@> 468 modes were calculated in 0.02s.\n",
      "@> 2489 atoms and 1 coordinate set(s) were parsed in 0.01s.\n",
      "@> Kirchhoff was built in 0.00s.\n",
      "@> 157 modes were calculated in 0.00s.\n",
      "@> Hessian was built in 0.04s.\n",
      "@> 468 modes were calculated in 0.02s.\n"
     ]
    },
    {
     "name": "stdout",
     "output_type": "stream",
     "text": [
      "Time taken: 0.10612046199821634\n",
      "Time taken: 0.11736482899868861\n"
     ]
    },
    {
     "name": "stderr",
     "output_type": "stream",
     "text": [
      "@> 2477 atoms and 1 coordinate set(s) were parsed in 0.01s.\n",
      "@> Kirchhoff was built in 0.01s.\n",
      "@> 157 modes were calculated in 0.00s.\n",
      "@> Hessian was built in 0.02s.\n",
      "@> 468 modes were calculated in 0.03s.\n",
      "@> 2469 atoms and 1 coordinate set(s) were parsed in 0.01s.\n",
      "@> Kirchhoff was built in 0.00s.\n",
      "@> 157 modes were calculated in 0.00s.\n",
      "@> Hessian was built in 0.04s.\n",
      "@> 468 modes were calculated in 0.02s.\n"
     ]
    },
    {
     "name": "stdout",
     "output_type": "stream",
     "text": [
      "Time taken: 0.11122239100222941\n",
      "Time taken: 0.10146161100419704\n"
     ]
    },
    {
     "name": "stderr",
     "output_type": "stream",
     "text": [
      "@> 2486 atoms and 1 coordinate set(s) were parsed in 0.01s.\n",
      "@> Kirchhoff was built in 0.01s.\n",
      "@> 157 modes were calculated in 0.00s.\n",
      "@> Hessian was built in 0.03s.\n",
      "@> 468 modes were calculated in 0.02s.\n",
      "@> 2488 atoms and 1 coordinate set(s) were parsed in 0.01s.\n",
      "@> Kirchhoff was built in 0.01s.\n",
      "@> 157 modes were calculated in 0.00s.\n",
      "@> Hessian was built in 0.04s.\n",
      "@> 468 modes were calculated in 0.02s.\n"
     ]
    },
    {
     "name": "stdout",
     "output_type": "stream",
     "text": [
      "Time taken: 0.11223122899536975\n",
      "Time taken: 0.11013976099638967\n"
     ]
    },
    {
     "name": "stderr",
     "output_type": "stream",
     "text": [
      "@> 2466 atoms and 1 coordinate set(s) were parsed in 0.01s.\n",
      "@> Kirchhoff was built in 0.01s.\n",
      "@> 157 modes were calculated in 0.00s.\n",
      "@> Hessian was built in 0.03s.\n",
      "@> 468 modes were calculated in 0.02s.\n",
      "@> 2469 atoms and 1 coordinate set(s) were parsed in 0.01s.\n",
      "@> Kirchhoff was built in 0.01s.\n",
      "@> 157 modes were calculated in 0.00s.\n",
      "@> Hessian was built in 0.04s.\n",
      "@> 468 modes were calculated in 0.02s.\n"
     ]
    },
    {
     "name": "stdout",
     "output_type": "stream",
     "text": [
      "Time taken: 0.11960362199897645\n",
      "Time taken: 0.09744483399845194\n"
     ]
    },
    {
     "name": "stderr",
     "output_type": "stream",
     "text": [
      "@> 2469 atoms and 1 coordinate set(s) were parsed in 0.01s.\n",
      "@> Kirchhoff was built in 0.01s.\n",
      "@> 157 modes were calculated in 0.00s.\n",
      "@> Hessian was built in 0.03s.\n",
      "@> 468 modes were calculated in 0.02s.\n",
      "@> 2480 atoms and 1 coordinate set(s) were parsed in 0.01s.\n",
      "@> Kirchhoff was built in 0.01s.\n",
      "@> 157 modes were calculated in 0.00s.\n",
      "@> Hessian was built in 0.04s.\n",
      "@> 468 modes were calculated in 0.02s.\n"
     ]
    },
    {
     "name": "stdout",
     "output_type": "stream",
     "text": [
      "Time taken: 0.1088602770032594\n",
      "Time taken: 0.09828783800185192\n",
      "Time taken: 0.09727907400520053\n"
     ]
    },
    {
     "name": "stderr",
     "output_type": "stream",
     "text": [
      "@> 2488 atoms and 1 coordinate set(s) were parsed in 0.01s.\n",
      "@> Kirchhoff was built in 0.01s.\n",
      "@> 157 modes were calculated in 0.00s.\n",
      "@> Hessian was built in 0.03s.\n",
      "@> 468 modes were calculated in 0.02s.\n",
      "@> 2454 atoms and 1 coordinate set(s) were parsed in 0.01s.\n",
      "@> Kirchhoff was built in 0.00s.\n",
      "@> 157 modes were calculated in 0.00s.\n",
      "@> Hessian was built in 0.04s.\n",
      "@> 468 modes were calculated in 0.02s.\n",
      "@> 2469 atoms and 1 coordinate set(s) were parsed in 0.02s.\n",
      "@> Kirchhoff was built in 0.00s.\n",
      "@> 157 modes were calculated in 0.00s.\n",
      "@> Hessian was built in 0.04s.\n",
      "@> 468 modes were calculated in 0.02s.\n"
     ]
    },
    {
     "name": "stdout",
     "output_type": "stream",
     "text": [
      "Time taken: 0.09625979400152573\n",
      "Time taken: 0.11202258200501092\n"
     ]
    },
    {
     "name": "stderr",
     "output_type": "stream",
     "text": [
      "@> 2483 atoms and 1 coordinate set(s) were parsed in 0.01s.\n",
      "@> Kirchhoff was built in 0.01s.\n",
      "@> 157 modes were calculated in 0.00s.\n",
      "@> Hessian was built in 0.04s.\n",
      "@> 468 modes were calculated in 0.02s.\n",
      "@> 2480 atoms and 1 coordinate set(s) were parsed in 0.02s.\n",
      "@> Kirchhoff was built in 0.00s.\n",
      "@> 157 modes were calculated in 0.00s.\n",
      "@> Hessian was built in 0.04s.\n",
      "@> 468 modes were calculated in 0.02s.\n"
     ]
    },
    {
     "name": "stdout",
     "output_type": "stream",
     "text": [
      "Time taken: 0.1053319639977417\n",
      "Time taken: 0.11069980100000976\n"
     ]
    },
    {
     "name": "stderr",
     "output_type": "stream",
     "text": [
      "@> 2457 atoms and 1 coordinate set(s) were parsed in 0.01s.\n",
      "@> Kirchhoff was built in 0.01s.\n",
      "@> 157 modes were calculated in 0.00s.\n",
      "@> Hessian was built in 0.02s.\n",
      "@> 468 modes were calculated in 0.02s.\n",
      "@> 2477 atoms and 1 coordinate set(s) were parsed in 0.01s.\n",
      "@> Kirchhoff was built in 0.01s.\n",
      "@> 157 modes were calculated in 0.00s.\n",
      "@> Hessian was built in 0.03s.\n",
      "@> 468 modes were calculated in 0.02s.\n"
     ]
    },
    {
     "name": "stdout",
     "output_type": "stream",
     "text": [
      "Time taken: 0.11670720000256551\n",
      "Time taken: 0.10696000399912009\n"
     ]
    },
    {
     "name": "stderr",
     "output_type": "stream",
     "text": [
      "@> 2472 atoms and 1 coordinate set(s) were parsed in 0.01s.\n",
      "@> Kirchhoff was built in 0.00s.\n",
      "@> 157 modes were calculated in 0.00s.\n",
      "@> Hessian was built in 0.03s.\n",
      "@> 468 modes were calculated in 0.02s.\n",
      "@> 2480 atoms and 1 coordinate set(s) were parsed in 0.01s.\n",
      "@> Kirchhoff was built in 0.01s.\n",
      "@> 157 modes were calculated in 0.00s.\n",
      "@> Hessian was built in 0.03s.\n",
      "@> 468 modes were calculated in 0.02s.\n"
     ]
    },
    {
     "name": "stdout",
     "output_type": "stream",
     "text": [
      "Time taken: 0.09622235199640272\n",
      "Time taken: 0.09609273400565144\n",
      "Time taken: 0.10106209699733881\n"
     ]
    },
    {
     "name": "stderr",
     "output_type": "stream",
     "text": [
      "@> 2485 atoms and 1 coordinate set(s) were parsed in 0.01s.\n",
      "@> Kirchhoff was built in 0.01s.\n",
      "@> 157 modes were calculated in 0.00s.\n",
      "@> Hessian was built in 0.04s.\n",
      "@> 468 modes were calculated in 0.02s.\n",
      "@> 2479 atoms and 1 coordinate set(s) were parsed in 0.01s.\n",
      "@> Kirchhoff was built in 0.00s.\n",
      "@> 157 modes were calculated in 0.00s.\n",
      "@> Hessian was built in 0.03s.\n",
      "@> 468 modes were calculated in 0.02s.\n",
      "@> 2458 atoms and 1 coordinate set(s) were parsed in 0.01s.\n",
      "@> Kirchhoff was built in 0.01s.\n",
      "@> 157 modes were calculated in 0.00s.\n",
      "@> Hessian was built in 0.04s.\n",
      "@> 468 modes were calculated in 0.02s.\n"
     ]
    },
    {
     "name": "stdout",
     "output_type": "stream",
     "text": [
      "Time taken: 0.10392545200011227\n",
      "Time taken: 0.09934420599893201\n"
     ]
    },
    {
     "name": "stderr",
     "output_type": "stream",
     "text": [
      "@> 2486 atoms and 1 coordinate set(s) were parsed in 0.01s.\n",
      "@> Kirchhoff was built in 0.00s.\n",
      "@> 157 modes were calculated in 0.00s.\n",
      "@> Hessian was built in 0.04s.\n",
      "@> 468 modes were calculated in 0.02s.\n",
      "@> 2455 atoms and 1 coordinate set(s) were parsed in 0.02s.\n",
      "@> Kirchhoff was built in 0.01s.\n",
      "@> 157 modes were calculated in 0.00s.\n",
      "@> Hessian was built in 0.04s.\n"
     ]
    },
    {
     "name": "stdout",
     "output_type": "stream",
     "text": [
      "Time taken: 0.11392562599939993\n",
      "Time taken: 0.11536722700111568\n"
     ]
    },
    {
     "name": "stderr",
     "output_type": "stream",
     "text": [
      "@> 468 modes were calculated in 0.02s.\n",
      "@> 2458 atoms and 1 coordinate set(s) were parsed in 0.01s.\n",
      "@> Kirchhoff was built in 0.01s.\n",
      "@> 157 modes were calculated in 0.00s.\n",
      "@> Hessian was built in 0.03s.\n",
      "@> 468 modes were calculated in 0.02s.\n",
      "@> 2460 atoms and 1 coordinate set(s) were parsed in 0.01s.\n",
      "@> Kirchhoff was built in 0.01s.\n",
      "@> 157 modes were calculated in 0.00s.\n",
      "@> Hessian was built in 0.03s.\n",
      "@> 468 modes were calculated in 0.02s.\n"
     ]
    },
    {
     "name": "stdout",
     "output_type": "stream",
     "text": [
      "Time taken: 0.12018218300363515\n",
      "Time taken: 0.09794391500327038\n"
     ]
    },
    {
     "name": "stderr",
     "output_type": "stream",
     "text": [
      "@> 2479 atoms and 1 coordinate set(s) were parsed in 0.01s.\n",
      "@> Kirchhoff was built in 0.00s.\n",
      "@> 157 modes were calculated in 0.00s.\n",
      "@> Hessian was built in 0.03s.\n",
      "@> 468 modes were calculated in 0.02s.\n",
      "@> 2478 atoms and 1 coordinate set(s) were parsed in 0.01s.\n",
      "@> Kirchhoff was built in 0.01s.\n",
      "@> 157 modes were calculated in 0.00s.\n",
      "@> Hessian was built in 0.03s.\n",
      "@> 468 modes were calculated in 0.02s.\n",
      "@> 2491 atoms and 1 coordinate set(s) were parsed in 0.01s.\n"
     ]
    },
    {
     "name": "stdout",
     "output_type": "stream",
     "text": [
      "Time taken: 0.10754566700052237\n",
      "Time taken: 0.09359563600446563\n",
      "Time taken: 0.0920015779993264\n"
     ]
    },
    {
     "name": "stderr",
     "output_type": "stream",
     "text": [
      "@> Kirchhoff was built in 0.01s.\n",
      "@> 157 modes were calculated in 0.00s.\n",
      "@> Hessian was built in 0.03s.\n",
      "@> 468 modes were calculated in 0.02s.\n",
      "@> 2449 atoms and 1 coordinate set(s) were parsed in 0.01s.\n",
      "@> Kirchhoff was built in 0.00s.\n",
      "@> 157 modes were calculated in 0.00s.\n",
      "@> Hessian was built in 0.04s.\n",
      "@> 468 modes were calculated in 0.02s.\n",
      "@> 2477 atoms and 1 coordinate set(s) were parsed in 0.02s.\n",
      "@> Kirchhoff was built in 0.00s.\n",
      "@> 157 modes were calculated in 0.00s.\n",
      "@> Hessian was built in 0.02s.\n",
      "@> 468 modes were calculated in 0.02s.\n"
     ]
    },
    {
     "name": "stdout",
     "output_type": "stream",
     "text": [
      "Time taken: 0.10753972900420194\n",
      "Time taken: 0.10949250900011975\n",
      "Time taken: 0.08998529399832478\n"
     ]
    },
    {
     "name": "stderr",
     "output_type": "stream",
     "text": [
      "@> 2473 atoms and 1 coordinate set(s) were parsed in 0.01s.\n",
      "@> Kirchhoff was built in 0.01s.\n",
      "@> 157 modes were calculated in 0.00s.\n",
      "@> Hessian was built in 0.03s.\n",
      "@> 468 modes were calculated in 0.02s.\n",
      "@> 2468 atoms and 1 coordinate set(s) were parsed in 0.02s.\n",
      "@> Kirchhoff was built in 0.00s.\n",
      "@> 157 modes were calculated in 0.00s.\n",
      "@> Hessian was built in 0.03s.\n",
      "@> 468 modes were calculated in 0.02s.\n",
      "@> 2460 atoms and 1 coordinate set(s) were parsed in 0.01s.\n",
      "@> Kirchhoff was built in 0.01s.\n",
      "@> 157 modes were calculated in 0.00s.\n",
      "@> Hessian was built in 0.03s.\n",
      "@> 468 modes were calculated in 0.02s.\n"
     ]
    },
    {
     "name": "stdout",
     "output_type": "stream",
     "text": [
      "Time taken: 0.1087986640050076\n",
      "Time taken: 0.10967218199948547\n"
     ]
    },
    {
     "name": "stderr",
     "output_type": "stream",
     "text": [
      "@> 2481 atoms and 1 coordinate set(s) were parsed in 0.01s.\n",
      "@> Kirchhoff was built in 0.01s.\n",
      "@> 157 modes were calculated in 0.00s.\n",
      "@> Hessian was built in 0.03s.\n",
      "@> 468 modes were calculated in 0.02s.\n",
      "@> 2472 atoms and 1 coordinate set(s) were parsed in 0.01s.\n",
      "@> Kirchhoff was built in 0.01s.\n",
      "@> 157 modes were calculated in 0.00s.\n",
      "@> Hessian was built in 0.04s.\n",
      "@> 468 modes were calculated in 0.02s.\n"
     ]
    },
    {
     "name": "stdout",
     "output_type": "stream",
     "text": [
      "Time taken: 0.10669327899813652\n",
      "Time taken: 0.10034666099818423\n"
     ]
    },
    {
     "name": "stderr",
     "output_type": "stream",
     "text": [
      "@> 2468 atoms and 1 coordinate set(s) were parsed in 0.01s.\n",
      "@> Kirchhoff was built in 0.01s.\n",
      "@> 157 modes were calculated in 0.00s.\n",
      "@> Hessian was built in 0.03s.\n",
      "@> 468 modes were calculated in 0.02s.\n",
      "@> 2470 atoms and 1 coordinate set(s) were parsed in 0.01s.\n",
      "@> Kirchhoff was built in 0.00s.\n",
      "@> 157 modes were calculated in 0.00s.\n",
      "@> Hessian was built in 0.02s.\n",
      "@> 468 modes were calculated in 0.02s.\n"
     ]
    },
    {
     "name": "stdout",
     "output_type": "stream",
     "text": [
      "Time taken: 0.11137437500292435\n",
      "Time taken: 0.10610401799931424\n"
     ]
    },
    {
     "name": "stderr",
     "output_type": "stream",
     "text": [
      "@> 2475 atoms and 1 coordinate set(s) were parsed in 0.01s.\n",
      "@> Kirchhoff was built in 0.00s.\n",
      "@> 157 modes were calculated in 0.00s.\n",
      "@> Hessian was built in 0.04s.\n",
      "@> 468 modes were calculated in 0.02s.\n",
      "@> 2460 atoms and 1 coordinate set(s) were parsed in 0.01s.\n",
      "@> Kirchhoff was built in 0.01s.\n",
      "@> 157 modes were calculated in 0.00s.\n",
      "@> Hessian was built in 0.03s.\n",
      "@> 468 modes were calculated in 0.02s.\n"
     ]
    },
    {
     "name": "stdout",
     "output_type": "stream",
     "text": [
      "Time taken: 0.10429254799964838\n",
      "Time taken: 0.11289574700640514\n"
     ]
    },
    {
     "name": "stderr",
     "output_type": "stream",
     "text": [
      "@> 2487 atoms and 1 coordinate set(s) were parsed in 0.02s.\n",
      "@> Kirchhoff was built in 0.00s.\n",
      "@> 157 modes were calculated in 0.00s.\n",
      "@> Hessian was built in 0.04s.\n",
      "@> 468 modes were calculated in 0.02s.\n",
      "@> 2471 atoms and 1 coordinate set(s) were parsed in 0.01s.\n",
      "@> Kirchhoff was built in 0.00s.\n",
      "@> 157 modes were calculated in 0.00s.\n",
      "@> Hessian was built in 0.04s.\n"
     ]
    },
    {
     "name": "stdout",
     "output_type": "stream",
     "text": [
      "Time taken: 0.09369050899840659\n",
      "Time taken: 0.12482777800323674\n"
     ]
    },
    {
     "name": "stderr",
     "output_type": "stream",
     "text": [
      "@> 468 modes were calculated in 0.02s.\n",
      "@> 2468 atoms and 1 coordinate set(s) were parsed in 0.02s.\n",
      "@> Kirchhoff was built in 0.00s.\n",
      "@> 157 modes were calculated in 0.00s.\n",
      "@> Hessian was built in 0.04s.\n",
      "@> 468 modes were calculated in 0.02s.\n",
      "@> 2458 atoms and 1 coordinate set(s) were parsed in 0.01s.\n",
      "@> Kirchhoff was built in 0.00s.\n",
      "@> 157 modes were calculated in 0.00s.\n",
      "@> Hessian was built in 0.03s.\n",
      "@> 468 modes were calculated in 0.02s.\n"
     ]
    },
    {
     "name": "stdout",
     "output_type": "stream",
     "text": [
      "Time taken: 0.10063439100485994\n",
      "Time taken: 0.11210163800569717\n"
     ]
    },
    {
     "name": "stderr",
     "output_type": "stream",
     "text": [
      "@> 2487 atoms and 1 coordinate set(s) were parsed in 0.01s.\n",
      "@> Kirchhoff was built in 0.01s.\n",
      "@> 157 modes were calculated in 0.01s.\n",
      "@> Hessian was built in 0.04s.\n",
      "@> 468 modes were calculated in 0.02s.\n",
      "@> 2478 atoms and 1 coordinate set(s) were parsed in 0.01s.\n",
      "@> Kirchhoff was built in 0.00s.\n",
      "@> 157 modes were calculated in 0.00s.\n",
      "@> Hessian was built in 0.03s.\n",
      "@> 468 modes were calculated in 0.02s.\n"
     ]
    },
    {
     "name": "stdout",
     "output_type": "stream",
     "text": [
      "Time taken: 0.09235830399848055\n",
      "Time taken: 0.12258339099935256\n"
     ]
    },
    {
     "name": "stderr",
     "output_type": "stream",
     "text": [
      "@> 2479 atoms and 1 coordinate set(s) were parsed in 0.02s.\n",
      "@> Kirchhoff was built in 0.00s.\n",
      "@> 157 modes were calculated in 0.00s.\n",
      "@> Hessian was built in 0.04s.\n",
      "@> 468 modes were calculated in 0.02s.\n",
      "@> 2469 atoms and 1 coordinate set(s) were parsed in 0.01s.\n",
      "@> Kirchhoff was built in 0.01s.\n",
      "@> 157 modes were calculated in 0.00s.\n",
      "@> Hessian was built in 0.03s.\n",
      "@> 468 modes were calculated in 0.02s.\n"
     ]
    },
    {
     "name": "stdout",
     "output_type": "stream",
     "text": [
      "Time taken: 0.09368287600227632\n",
      "Time taken: 0.10429487700457685\n"
     ]
    },
    {
     "name": "stderr",
     "output_type": "stream",
     "text": [
      "@> 2455 atoms and 1 coordinate set(s) were parsed in 0.01s.\n",
      "@> Kirchhoff was built in 0.00s.\n",
      "@> 157 modes were calculated in 0.00s.\n",
      "@> Hessian was built in 0.04s.\n",
      "@> 468 modes were calculated in 0.02s.\n",
      "@> 2484 atoms and 1 coordinate set(s) were parsed in 0.02s.\n",
      "@> Kirchhoff was built in 0.00s.\n",
      "@> 157 modes were calculated in 0.00s.\n",
      "@> Hessian was built in 0.03s.\n",
      "@> 468 modes were calculated in 0.02s.\n"
     ]
    },
    {
     "name": "stdout",
     "output_type": "stream",
     "text": [
      "Time taken: 0.10101611300342483\n",
      "Time taken: 0.11365225700137671\n"
     ]
    },
    {
     "name": "stderr",
     "output_type": "stream",
     "text": [
      "@> 2470 atoms and 1 coordinate set(s) were parsed in 0.01s.\n",
      "@> Kirchhoff was built in 0.01s.\n",
      "@> 157 modes were calculated in 0.00s.\n",
      "@> Hessian was built in 0.03s.\n",
      "@> 468 modes were calculated in 0.02s.\n",
      "@> 2485 atoms and 1 coordinate set(s) were parsed in 0.02s.\n",
      "@> Kirchhoff was built in 0.00s.\n",
      "@> 157 modes were calculated in 0.00s.\n",
      "@> Hessian was built in 0.03s.\n",
      "@> 468 modes were calculated in 0.02s.\n"
     ]
    },
    {
     "name": "stdout",
     "output_type": "stream",
     "text": [
      "Time taken: 0.10571591500047361\n",
      "Time taken: 0.10042013999918709\n"
     ]
    },
    {
     "name": "stderr",
     "output_type": "stream",
     "text": [
      "@> 2465 atoms and 1 coordinate set(s) were parsed in 0.01s.\n",
      "@> Kirchhoff was built in 0.01s.\n",
      "@> 157 modes were calculated in 0.00s.\n",
      "@> Hessian was built in 0.03s.\n",
      "@> 468 modes were calculated in 0.02s.\n",
      "@> 2462 atoms and 1 coordinate set(s) were parsed in 0.01s.\n",
      "@> Kirchhoff was built in 0.01s.\n",
      "@> 157 modes were calculated in 0.00s.\n",
      "@> Hessian was built in 0.04s.\n",
      "@> 468 modes were calculated in 0.02s.\n"
     ]
    },
    {
     "name": "stdout",
     "output_type": "stream",
     "text": [
      "Time taken: 0.11537233600392938\n",
      "Time taken: 0.09725772000092547\n",
      "Time taken: 0.0971324350030045\n"
     ]
    },
    {
     "name": "stderr",
     "output_type": "stream",
     "text": [
      "@> 2474 atoms and 1 coordinate set(s) were parsed in 0.01s.\n",
      "@> Kirchhoff was built in 0.01s.\n",
      "@> 157 modes were calculated in 0.00s.\n",
      "@> Hessian was built in 0.04s.\n",
      "@> 468 modes were calculated in 0.02s.\n",
      "@> 2476 atoms and 1 coordinate set(s) were parsed in 0.02s.\n",
      "@> Kirchhoff was built in 0.00s.\n",
      "@> 157 modes were calculated in 0.00s.\n",
      "@> Hessian was built in 0.04s.\n",
      "@> 468 modes were calculated in 0.02s.\n",
      "@> 2458 atoms and 1 coordinate set(s) were parsed in 0.01s.\n",
      "@> Kirchhoff was built in 0.01s.\n",
      "@> 157 modes were calculated in 0.00s.\n",
      "@> Hessian was built in 0.04s.\n",
      "@> 468 modes were calculated in 0.02s.\n"
     ]
    },
    {
     "name": "stdout",
     "output_type": "stream",
     "text": [
      "Time taken: 0.11175983199791517\n",
      "Time taken: 0.10687872400012566\n"
     ]
    },
    {
     "name": "stderr",
     "output_type": "stream",
     "text": [
      "@> 2463 atoms and 1 coordinate set(s) were parsed in 0.02s.\n",
      "@> Kirchhoff was built in 0.01s.\n",
      "@> 157 modes were calculated in 0.00s.\n",
      "@> Hessian was built in 0.04s.\n",
      "@> 468 modes were calculated in 0.02s.\n",
      "@> 2474 atoms and 1 coordinate set(s) were parsed in 0.01s.\n",
      "@> Kirchhoff was built in 0.01s.\n",
      "@> 157 modes were calculated in 0.00s.\n",
      "@> Hessian was built in 0.04s.\n",
      "@> 468 modes were calculated in 0.02s.\n"
     ]
    },
    {
     "name": "stdout",
     "output_type": "stream",
     "text": [
      "Time taken: 0.10691428899735911\n",
      "Time taken: 0.11884379600087414\n"
     ]
    },
    {
     "name": "stderr",
     "output_type": "stream",
     "text": [
      "@> 2459 atoms and 1 coordinate set(s) were parsed in 0.01s.\n",
      "@> Kirchhoff was built in 0.00s.\n",
      "@> 157 modes were calculated in 0.00s.\n",
      "@> Hessian was built in 0.03s.\n",
      "@> 468 modes were calculated in 0.02s.\n",
      "@> 2475 atoms and 1 coordinate set(s) were parsed in 0.02s.\n",
      "@> Kirchhoff was built in 0.00s.\n",
      "@> 157 modes were calculated in 0.00s.\n",
      "@> Hessian was built in 0.04s.\n",
      "@> 468 modes were calculated in 0.02s.\n"
     ]
    },
    {
     "name": "stdout",
     "output_type": "stream",
     "text": [
      "Time taken: 0.10443705299985595\n",
      "Time taken: 0.10181078699679347\n"
     ]
    },
    {
     "name": "stderr",
     "output_type": "stream",
     "text": [
      "@> 2478 atoms and 1 coordinate set(s) were parsed in 0.01s.\n",
      "@> Kirchhoff was built in 0.00s.\n",
      "@> 157 modes were calculated in 0.00s.\n",
      "@> Hessian was built in 0.04s.\n",
      "@> 468 modes were calculated in 0.02s.\n",
      "@> 2481 atoms and 1 coordinate set(s) were parsed in 0.01s.\n",
      "@> Kirchhoff was built in 0.01s.\n",
      "@> 157 modes were calculated in 0.00s.\n",
      "@> Hessian was built in 0.04s.\n",
      "@> 468 modes were calculated in 0.02s.\n"
     ]
    },
    {
     "name": "stdout",
     "output_type": "stream",
     "text": [
      "Time taken: 0.12174731199775124\n",
      "Time taken: 0.11364077400503447\n"
     ]
    },
    {
     "name": "stderr",
     "output_type": "stream",
     "text": [
      "@> 2464 atoms and 1 coordinate set(s) were parsed in 0.01s.\n",
      "@> Kirchhoff was built in 0.01s.\n",
      "@> 157 modes were calculated in 0.00s.\n",
      "@> Hessian was built in 0.04s.\n",
      "@> 468 modes were calculated in 0.02s.\n",
      "@> 2462 atoms and 1 coordinate set(s) were parsed in 0.01s.\n",
      "@> Kirchhoff was built in 0.00s.\n",
      "@> 157 modes were calculated in 0.00s.\n",
      "@> Hessian was built in 0.03s.\n",
      "@> 468 modes were calculated in 0.02s.\n"
     ]
    },
    {
     "name": "stdout",
     "output_type": "stream",
     "text": [
      "Time taken: 0.10999669699958758\n",
      "Time taken: 0.10929546000261325\n"
     ]
    },
    {
     "name": "stderr",
     "output_type": "stream",
     "text": [
      "@> 2480 atoms and 1 coordinate set(s) were parsed in 0.01s.\n",
      "@> Kirchhoff was built in 0.01s.\n",
      "@> 157 modes were calculated in 0.00s.\n",
      "@> Hessian was built in 0.03s.\n",
      "@> 468 modes were calculated in 0.02s.\n",
      "@> 2466 atoms and 1 coordinate set(s) were parsed in 0.01s.\n",
      "@> Kirchhoff was built in 0.01s.\n",
      "@> 157 modes were calculated in 0.00s.\n",
      "@> Hessian was built in 0.03s.\n",
      "@> 468 modes were calculated in 0.02s.\n"
     ]
    },
    {
     "name": "stdout",
     "output_type": "stream",
     "text": [
      "Time taken: 0.11004475600202568\n",
      "Time taken: 0.09263418200134765\n",
      "Time taken: 0.10471838500234298\n"
     ]
    },
    {
     "name": "stderr",
     "output_type": "stream",
     "text": [
      "@> 2491 atoms and 1 coordinate set(s) were parsed in 0.01s.\n",
      "@> Kirchhoff was built in 0.00s.\n",
      "@> 157 modes were calculated in 0.00s.\n",
      "@> Hessian was built in 0.04s.\n",
      "@> 468 modes were calculated in 0.02s.\n",
      "@> 2456 atoms and 1 coordinate set(s) were parsed in 0.01s.\n",
      "@> Kirchhoff was built in 0.00s.\n",
      "@> 157 modes were calculated in 0.00s.\n",
      "@> Hessian was built in 0.03s.\n",
      "@> 468 modes were calculated in 0.02s.\n",
      "@> 2481 atoms and 1 coordinate set(s) were parsed in 0.01s.\n",
      "@> Kirchhoff was built in 0.01s.\n",
      "@> 157 modes were calculated in 0.00s.\n",
      "@> Hessian was built in 0.03s.\n",
      "@> 468 modes were calculated in 0.02s.\n"
     ]
    },
    {
     "name": "stdout",
     "output_type": "stream",
     "text": [
      "Time taken: 0.10858792700310005\n",
      "Time taken: 0.09838217399374116\n",
      "Time taken: 0.0929708199982997\n"
     ]
    },
    {
     "name": "stderr",
     "output_type": "stream",
     "text": [
      "@> 2467 atoms and 1 coordinate set(s) were parsed in 0.01s.\n",
      "@> Kirchhoff was built in 0.00s.\n",
      "@> 157 modes were calculated in 0.00s.\n",
      "@> Hessian was built in 0.04s.\n",
      "@> 468 modes were calculated in 0.02s.\n",
      "@> 2483 atoms and 1 coordinate set(s) were parsed in 0.02s.\n",
      "@> Kirchhoff was built in 0.01s.\n",
      "@> 157 modes were calculated in 0.00s.\n",
      "@> Hessian was built in 0.04s.\n",
      "@> 468 modes were calculated in 0.02s.\n",
      "@> 2461 atoms and 1 coordinate set(s) were parsed in 0.01s.\n",
      "@> Kirchhoff was built in 0.00s.\n",
      "@> 157 modes were calculated in 0.00s.\n",
      "@> Hessian was built in 0.04s.\n",
      "@> 468 modes were calculated in 0.02s.\n"
     ]
    },
    {
     "name": "stdout",
     "output_type": "stream",
     "text": [
      "Time taken: 0.10709428800328169\n",
      "Time taken: 0.1145868320018053\n"
     ]
    },
    {
     "name": "stderr",
     "output_type": "stream",
     "text": [
      "@> 2469 atoms and 1 coordinate set(s) were parsed in 0.01s.\n",
      "@> Kirchhoff was built in 0.01s.\n",
      "@> 157 modes were calculated in 0.00s.\n",
      "@> Hessian was built in 0.03s.\n",
      "@> 468 modes were calculated in 0.02s.\n",
      "@> 2454 atoms and 1 coordinate set(s) were parsed in 0.01s.\n",
      "@> Kirchhoff was built in 0.01s.\n",
      "@> 157 modes were calculated in 0.00s.\n",
      "@> Hessian was built in -1.54s.\n",
      "@> 468 modes were calculated in 0.02s.\n"
     ]
    },
    {
     "name": "stdout",
     "output_type": "stream",
     "text": [
      "Time taken: 0.11475102600525133\n",
      "Time taken: 0.1151900279946858\n"
     ]
    },
    {
     "name": "stderr",
     "output_type": "stream",
     "text": [
      "@> 2475 atoms and 1 coordinate set(s) were parsed in 0.01s.\n",
      "@> Kirchhoff was built in 0.01s.\n",
      "@> 157 modes were calculated in 0.00s.\n",
      "@> Hessian was built in 0.03s.\n",
      "@> 468 modes were calculated in 0.02s.\n",
      "@> 2482 atoms and 1 coordinate set(s) were parsed in 0.01s.\n",
      "@> Kirchhoff was built in 0.01s.\n",
      "@> 157 modes were calculated in 0.00s.\n",
      "@> Hessian was built in 0.04s.\n",
      "@> 468 modes were calculated in 0.02s.\n"
     ]
    },
    {
     "name": "stdout",
     "output_type": "stream",
     "text": [
      "Time taken: 0.10429537399613764\n",
      "Time taken: 0.11380382999777794\n"
     ]
    },
    {
     "name": "stderr",
     "output_type": "stream",
     "text": [
      "@> 2455 atoms and 1 coordinate set(s) were parsed in 0.02s.\n",
      "@> Kirchhoff was built in 0.00s.\n",
      "@> 157 modes were calculated in 0.00s.\n",
      "@> Hessian was built in 0.03s.\n",
      "@> 468 modes were calculated in 0.02s.\n",
      "@> 2490 atoms and 1 coordinate set(s) were parsed in 0.01s.\n",
      "@> Kirchhoff was built in 0.00s.\n",
      "@> 157 modes were calculated in 0.00s.\n",
      "@> Hessian was built in 0.04s.\n",
      "@> 468 modes were calculated in 0.02s.\n"
     ]
    },
    {
     "name": "stdout",
     "output_type": "stream",
     "text": [
      "Time taken: 0.10556554300274001\n",
      "Time taken: 0.10971013399830554\n"
     ]
    },
    {
     "name": "stderr",
     "output_type": "stream",
     "text": [
      "@> 2501 atoms and 1 coordinate set(s) were parsed in 0.02s.\n",
      "@> Kirchhoff was built in 0.00s.\n",
      "@> 157 modes were calculated in 0.00s.\n",
      "@> Hessian was built in 0.03s.\n",
      "@> 468 modes were calculated in 0.02s.\n",
      "@> 2475 atoms and 1 coordinate set(s) were parsed in 0.01s.\n",
      "@> Kirchhoff was built in 0.01s.\n",
      "@> 157 modes were calculated in 0.00s.\n",
      "@> Hessian was built in 0.02s.\n",
      "@> 468 modes were calculated in 0.02s.\n"
     ]
    },
    {
     "name": "stdout",
     "output_type": "stream",
     "text": [
      "Time taken: 0.10806498699821532\n",
      "Time taken: 0.11734477800200693\n"
     ]
    },
    {
     "name": "stderr",
     "output_type": "stream",
     "text": [
      "@> 2487 atoms and 1 coordinate set(s) were parsed in 0.02s.\n",
      "@> Kirchhoff was built in 0.00s.\n",
      "@> 157 modes were calculated in 0.00s.\n",
      "@> Hessian was built in 0.03s.\n",
      "@> 468 modes were calculated in 0.02s.\n",
      "@> 2487 atoms and 1 coordinate set(s) were parsed in 0.01s.\n",
      "@> Kirchhoff was built in 0.01s.\n",
      "@> 157 modes were calculated in 0.00s.\n",
      "@> Hessian was built in 0.04s.\n",
      "@> 468 modes were calculated in 0.02s.\n"
     ]
    },
    {
     "name": "stdout",
     "output_type": "stream",
     "text": [
      "Time taken: 0.09232315800181823\n",
      "Time taken: 0.1062841889943229\n"
     ]
    },
    {
     "name": "stderr",
     "output_type": "stream",
     "text": [
      "@> 2465 atoms and 1 coordinate set(s) were parsed in 0.01s.\n",
      "@> Kirchhoff was built in 0.01s.\n",
      "@> 157 modes were calculated in 0.00s.\n",
      "@> Hessian was built in 0.03s.\n",
      "@> 468 modes were calculated in 0.02s.\n",
      "@> 2458 atoms and 1 coordinate set(s) were parsed in 0.01s.\n",
      "@> Kirchhoff was built in 0.01s.\n",
      "@> 157 modes were calculated in 0.00s.\n",
      "@> Hessian was built in 0.04s.\n",
      "@> 468 modes were calculated in 0.02s.\n"
     ]
    },
    {
     "name": "stdout",
     "output_type": "stream",
     "text": [
      "Time taken: 0.1031046390053234\n",
      "Time taken: 0.09647282499645371\n"
     ]
    },
    {
     "name": "stderr",
     "output_type": "stream",
     "text": [
      "@> 2476 atoms and 1 coordinate set(s) were parsed in 0.02s.\n",
      "@> Kirchhoff was built in 0.00s.\n",
      "@> 157 modes were calculated in 0.00s.\n",
      "@> Hessian was built in 0.04s.\n",
      "@> 468 modes were calculated in 0.02s.\n",
      "@> 2476 atoms and 1 coordinate set(s) were parsed in 0.01s.\n",
      "@> Kirchhoff was built in 0.01s.\n",
      "@> 157 modes were calculated in 0.01s.\n",
      "@> Hessian was built in 0.03s.\n",
      "@> 468 modes were calculated in 0.02s.\n"
     ]
    },
    {
     "name": "stdout",
     "output_type": "stream",
     "text": [
      "Time taken: 0.11778257300466066\n",
      "Time taken: 0.11251002099743346\n"
     ]
    },
    {
     "name": "stderr",
     "output_type": "stream",
     "text": [
      "@> 2488 atoms and 1 coordinate set(s) were parsed in 0.01s.\n",
      "@> Kirchhoff was built in 0.01s.\n",
      "@> 157 modes were calculated in 0.00s.\n",
      "@> Hessian was built in 0.04s.\n",
      "@> 468 modes were calculated in 0.02s.\n",
      "@> 2479 atoms and 1 coordinate set(s) were parsed in 0.01s.\n",
      "@> Kirchhoff was built in 0.00s.\n",
      "@> 157 modes were calculated in 0.00s.\n",
      "@> Hessian was built in 0.04s.\n",
      "@> 468 modes were calculated in 0.02s.\n"
     ]
    },
    {
     "name": "stdout",
     "output_type": "stream",
     "text": [
      "Time taken: 0.11545868400571635\n",
      "Time taken: 0.10966913900483632\n"
     ]
    },
    {
     "name": "stderr",
     "output_type": "stream",
     "text": [
      "@> 2496 atoms and 1 coordinate set(s) were parsed in 0.01s.\n",
      "@> Kirchhoff was built in 0.01s.\n",
      "@> 157 modes were calculated in 0.00s.\n",
      "@> Hessian was built in 0.03s.\n",
      "@> 468 modes were calculated in 0.02s.\n",
      "@> 2489 atoms and 1 coordinate set(s) were parsed in 0.01s.\n",
      "@> Kirchhoff was built in 0.01s.\n",
      "@> 157 modes were calculated in 0.00s.\n",
      "@> Hessian was built in 0.03s.\n",
      "@> 468 modes were calculated in 0.02s.\n"
     ]
    },
    {
     "name": "stdout",
     "output_type": "stream",
     "text": [
      "Time taken: 0.1016967250034213\n",
      "Time taken: 0.10261277300014626\n"
     ]
    },
    {
     "name": "stderr",
     "output_type": "stream",
     "text": [
      "@> 2468 atoms and 1 coordinate set(s) were parsed in 0.01s.\n",
      "@> Kirchhoff was built in 0.01s.\n",
      "@> 157 modes were calculated in 0.00s.\n",
      "@> Hessian was built in 0.04s.\n",
      "@> 468 modes were calculated in 0.02s.\n",
      "@> 2460 atoms and 1 coordinate set(s) were parsed in 0.01s.\n",
      "@> Kirchhoff was built in 0.00s.\n",
      "@> 157 modes were calculated in 0.00s.\n",
      "@> Hessian was built in 0.04s.\n"
     ]
    },
    {
     "name": "stdout",
     "output_type": "stream",
     "text": [
      "Time taken: 0.1022426319977967\n",
      "Time taken: 0.1266684139991412\n"
     ]
    },
    {
     "name": "stderr",
     "output_type": "stream",
     "text": [
      "@> 468 modes were calculated in 0.02s.\n",
      "@> 2496 atoms and 1 coordinate set(s) were parsed in 0.02s.\n",
      "@> Kirchhoff was built in 0.01s.\n",
      "@> 157 modes were calculated in 0.00s.\n",
      "@> Hessian was built in 0.04s.\n",
      "@> 468 modes were calculated in 0.02s.\n",
      "@> 2473 atoms and 1 coordinate set(s) were parsed in 0.01s.\n",
      "@> Kirchhoff was built in 0.01s.\n",
      "@> 157 modes were calculated in 0.00s.\n",
      "@> Hessian was built in 0.04s.\n",
      "@> 468 modes were calculated in 0.02s.\n"
     ]
    },
    {
     "name": "stdout",
     "output_type": "stream",
     "text": [
      "Time taken: 0.10450588600360788\n",
      "Time taken: 0.11555226899508853\n"
     ]
    },
    {
     "name": "stderr",
     "output_type": "stream",
     "text": [
      "@> 2489 atoms and 1 coordinate set(s) were parsed in 0.01s.\n",
      "@> Kirchhoff was built in 0.00s.\n",
      "@> 157 modes were calculated in 0.00s.\n",
      "@> Hessian was built in 0.04s.\n",
      "@> 468 modes were calculated in 0.02s.\n",
      "@> 2480 atoms and 1 coordinate set(s) were parsed in 0.01s.\n",
      "@> Kirchhoff was built in 0.00s.\n",
      "@> 157 modes were calculated in 0.00s.\n",
      "@> Hessian was built in 0.04s.\n",
      "@> 468 modes were calculated in 0.02s.\n"
     ]
    },
    {
     "name": "stdout",
     "output_type": "stream",
     "text": [
      "Time taken: 0.10736232800263679\n",
      "Time taken: 0.11773812200408429\n"
     ]
    },
    {
     "name": "stderr",
     "output_type": "stream",
     "text": [
      "@> 2456 atoms and 1 coordinate set(s) were parsed in 0.01s.\n",
      "@> Kirchhoff was built in 0.01s.\n",
      "@> 157 modes were calculated in 0.01s.\n",
      "@> Hessian was built in 0.04s.\n",
      "@> 468 modes were calculated in 0.02s.\n",
      "@> 2467 atoms and 1 coordinate set(s) were parsed in 0.01s.\n",
      "@> Kirchhoff was built in 0.01s.\n",
      "@> 157 modes were calculated in 0.00s.\n",
      "@> Hessian was built in 0.05s.\n"
     ]
    },
    {
     "name": "stdout",
     "output_type": "stream",
     "text": [
      "Time taken: 0.11490637699898798\n",
      "Time taken: 0.13194160100101726\n"
     ]
    },
    {
     "name": "stderr",
     "output_type": "stream",
     "text": [
      "@> 468 modes were calculated in 0.02s.\n",
      "@> 2493 atoms and 1 coordinate set(s) were parsed in 0.01s.\n",
      "@> Kirchhoff was built in 0.01s.\n",
      "@> 157 modes were calculated in 0.00s.\n",
      "@> Hessian was built in 0.05s.\n",
      "@> 468 modes were calculated in 0.02s.\n",
      "@> 2469 atoms and 1 coordinate set(s) were parsed in 0.01s.\n",
      "@> Kirchhoff was built in 0.00s.\n",
      "@> 157 modes were calculated in 0.00s.\n",
      "@> Hessian was built in 0.03s.\n",
      "@> 468 modes were calculated in 0.02s.\n"
     ]
    },
    {
     "name": "stdout",
     "output_type": "stream",
     "text": [
      "Time taken: 0.12797939700249117\n",
      "Time taken: 0.11570654699607985\n"
     ]
    },
    {
     "name": "stderr",
     "output_type": "stream",
     "text": [
      "@> 2474 atoms and 1 coordinate set(s) were parsed in 0.02s.\n",
      "@> Kirchhoff was built in 0.01s.\n",
      "@> 157 modes were calculated in 0.00s.\n",
      "@> Hessian was built in 0.03s.\n",
      "@> 468 modes were calculated in 0.02s.\n",
      "@> 2467 atoms and 1 coordinate set(s) were parsed in 0.01s.\n",
      "@> Kirchhoff was built in 0.00s.\n",
      "@> 157 modes were calculated in 0.00s.\n",
      "@> Hessian was built in 0.03s.\n",
      "@> 468 modes were calculated in 0.02s.\n"
     ]
    },
    {
     "name": "stdout",
     "output_type": "stream",
     "text": [
      "Time taken: 0.0968015460020979\n",
      "Time taken: 0.10983033900265582\n"
     ]
    },
    {
     "name": "stderr",
     "output_type": "stream",
     "text": [
      "@> 2488 atoms and 1 coordinate set(s) were parsed in 0.01s.\n",
      "@> Kirchhoff was built in 0.01s.\n",
      "@> 157 modes were calculated in 0.00s.\n",
      "@> Hessian was built in 0.04s.\n",
      "@> 468 modes were calculated in 0.03s.\n",
      "@> 2479 atoms and 1 coordinate set(s) were parsed in 0.01s.\n",
      "@> Kirchhoff was built in 0.01s.\n",
      "@> 157 modes were calculated in 0.00s.\n",
      "@> Hessian was built in 0.03s.\n",
      "@> 468 modes were calculated in 0.02s.\n"
     ]
    },
    {
     "name": "stdout",
     "output_type": "stream",
     "text": [
      "Time taken: 0.10716579399741022\n",
      "Time taken: 0.11539534799521789\n"
     ]
    },
    {
     "name": "stderr",
     "output_type": "stream",
     "text": [
      "@> 2455 atoms and 1 coordinate set(s) were parsed in 0.01s.\n",
      "@> Kirchhoff was built in 0.01s.\n",
      "@> 157 modes were calculated in 0.00s.\n",
      "@> Hessian was built in 0.02s.\n",
      "@> 468 modes were calculated in 0.02s.\n",
      "@> 2477 atoms and 1 coordinate set(s) were parsed in 0.01s.\n",
      "@> Kirchhoff was built in 0.01s.\n",
      "@> 157 modes were calculated in 0.00s.\n",
      "@> Hessian was built in 0.04s.\n",
      "@> 468 modes were calculated in 0.02s.\n"
     ]
    },
    {
     "name": "stdout",
     "output_type": "stream",
     "text": [
      "Time taken: 0.10853902300004847\n",
      "Time taken: 0.09438580500136595\n"
     ]
    },
    {
     "name": "stderr",
     "output_type": "stream",
     "text": [
      "@> 2471 atoms and 1 coordinate set(s) were parsed in 0.01s.\n",
      "@> Kirchhoff was built in 0.00s.\n",
      "@> 157 modes were calculated in 0.00s.\n",
      "@> Hessian was built in 0.04s.\n",
      "@> 468 modes were calculated in 0.02s.\n",
      "@> 2476 atoms and 1 coordinate set(s) were parsed in 0.01s.\n",
      "@> Kirchhoff was built in 0.01s.\n",
      "@> 157 modes were calculated in 0.00s.\n",
      "@> Hessian was built in 0.03s.\n",
      "@> 468 modes were calculated in 0.02s.\n"
     ]
    },
    {
     "name": "stdout",
     "output_type": "stream",
     "text": [
      "Time taken: 0.10972716299875174\n",
      "Time taken: 0.11891934400046011\n"
     ]
    },
    {
     "name": "stderr",
     "output_type": "stream",
     "text": [
      "@> 2448 atoms and 1 coordinate set(s) were parsed in 0.01s.\n",
      "@> Kirchhoff was built in 0.00s.\n",
      "@> 157 modes were calculated in 0.00s.\n",
      "@> Hessian was built in 0.04s.\n",
      "@> 468 modes were calculated in 0.02s.\n",
      "@> 2464 atoms and 1 coordinate set(s) were parsed in 0.02s.\n",
      "@> Kirchhoff was built in 0.01s.\n",
      "@> 157 modes were calculated in 0.00s.\n",
      "@> Hessian was built in 0.04s.\n",
      "@> 468 modes were calculated in 0.02s.\n"
     ]
    },
    {
     "name": "stdout",
     "output_type": "stream",
     "text": [
      "Time taken: 0.1060744540009182\n",
      "Time taken: 0.09994249200099148\n"
     ]
    },
    {
     "name": "stderr",
     "output_type": "stream",
     "text": [
      "@> 2479 atoms and 1 coordinate set(s) were parsed in 0.01s.\n",
      "@> Kirchhoff was built in 0.01s.\n",
      "@> 157 modes were calculated in 0.00s.\n",
      "@> Hessian was built in 0.04s.\n",
      "@> 468 modes were calculated in 0.02s.\n",
      "@> 2476 atoms and 1 coordinate set(s) were parsed in 0.02s.\n",
      "@> Kirchhoff was built in 0.00s.\n",
      "@> 157 modes were calculated in 0.00s.\n",
      "@> Hessian was built in 0.04s.\n",
      "@> 468 modes were calculated in 0.02s.\n"
     ]
    },
    {
     "name": "stdout",
     "output_type": "stream",
     "text": [
      "Time taken: 0.12199493599473499\n",
      "Time taken: 0.1077809230046114\n"
     ]
    },
    {
     "name": "stderr",
     "output_type": "stream",
     "text": [
      "@> 2488 atoms and 1 coordinate set(s) were parsed in 0.01s.\n",
      "@> Kirchhoff was built in 0.01s.\n",
      "@> 157 modes were calculated in 0.00s.\n",
      "@> Hessian was built in 0.03s.\n",
      "@> 468 modes were calculated in 0.02s.\n",
      "@> 2453 atoms and 1 coordinate set(s) were parsed in 0.01s.\n",
      "@> Kirchhoff was built in 0.01s.\n",
      "@> 157 modes were calculated in 0.00s.\n",
      "@> Hessian was built in 0.03s.\n",
      "@> 468 modes were calculated in 0.02s.\n"
     ]
    },
    {
     "name": "stdout",
     "output_type": "stream",
     "text": [
      "Time taken: 0.11319513399939751\n",
      "Time taken: 0.10991640800057212\n"
     ]
    },
    {
     "name": "stderr",
     "output_type": "stream",
     "text": [
      "@> 2477 atoms and 1 coordinate set(s) were parsed in 0.01s.\n",
      "@> Kirchhoff was built in 0.01s.\n",
      "@> 157 modes were calculated in 0.00s.\n",
      "@> Hessian was built in 0.04s.\n",
      "@> 468 modes were calculated in 0.02s.\n",
      "@> 2457 atoms and 1 coordinate set(s) were parsed in 0.01s.\n",
      "@> Kirchhoff was built in 0.01s.\n",
      "@> 157 modes were calculated in 0.00s.\n",
      "@> Hessian was built in 0.04s.\n",
      "@> 468 modes were calculated in 0.02s.\n"
     ]
    },
    {
     "name": "stdout",
     "output_type": "stream",
     "text": [
      "Time taken: 0.10434899600659264\n",
      "Time taken: 0.1044649629984633\n"
     ]
    },
    {
     "name": "stderr",
     "output_type": "stream",
     "text": [
      "@> 2486 atoms and 1 coordinate set(s) were parsed in 0.01s.\n",
      "@> Kirchhoff was built in 0.01s.\n",
      "@> 157 modes were calculated in 0.00s.\n",
      "@> Hessian was built in 0.03s.\n",
      "@> 468 modes were calculated in 0.02s.\n",
      "@> 2470 atoms and 1 coordinate set(s) were parsed in 0.01s.\n",
      "@> Kirchhoff was built in 0.00s.\n",
      "@> 157 modes were calculated in 0.00s.\n",
      "@> Hessian was built in 0.04s.\n",
      "@> 468 modes were calculated in 0.02s.\n"
     ]
    },
    {
     "name": "stdout",
     "output_type": "stream",
     "text": [
      "Time taken: 0.11786276500060922\n",
      "Time taken: 0.10158889900048962\n"
     ]
    },
    {
     "name": "stderr",
     "output_type": "stream",
     "text": [
      "@> 2453 atoms and 1 coordinate set(s) were parsed in 0.01s.\n",
      "@> Kirchhoff was built in 0.00s.\n",
      "@> 157 modes were calculated in 0.00s.\n",
      "@> Hessian was built in 0.05s.\n",
      "@> 468 modes were calculated in 0.03s.\n",
      "@> 2477 atoms and 1 coordinate set(s) were parsed in 0.02s.\n",
      "@> Kirchhoff was built in 0.00s.\n",
      "@> 157 modes were calculated in 0.00s.\n",
      "@> Hessian was built in 0.04s.\n"
     ]
    },
    {
     "name": "stdout",
     "output_type": "stream",
     "text": [
      "Time taken: 0.1200760059946333\n",
      "Time taken: 0.13056842600053642\n"
     ]
    },
    {
     "name": "stderr",
     "output_type": "stream",
     "text": [
      "@> 468 modes were calculated in 0.02s.\n",
      "@> 2477 atoms and 1 coordinate set(s) were parsed in 0.01s.\n",
      "@> Kirchhoff was built in 0.01s.\n",
      "@> 157 modes were calculated in 0.00s.\n",
      "@> Hessian was built in 0.04s.\n",
      "@> 468 modes were calculated in 0.02s.\n",
      "@> 2482 atoms and 1 coordinate set(s) were parsed in 0.01s.\n",
      "@> Kirchhoff was built in 0.00s.\n",
      "@> 157 modes were calculated in 0.00s.\n",
      "@> Hessian was built in 0.04s.\n",
      "@> 468 modes were calculated in 0.02s.\n"
     ]
    },
    {
     "name": "stdout",
     "output_type": "stream",
     "text": [
      "Time taken: 0.11109575600130484\n",
      "Time taken: 0.11004611600219505\n"
     ]
    },
    {
     "name": "stderr",
     "output_type": "stream",
     "text": [
      "@> 2467 atoms and 1 coordinate set(s) were parsed in 0.01s.\n",
      "@> Kirchhoff was built in 0.00s.\n",
      "@> 157 modes were calculated in 0.00s.\n",
      "@> Hessian was built in 0.04s.\n",
      "@> 468 modes were calculated in 0.02s.\n",
      "@> 2468 atoms and 1 coordinate set(s) were parsed in 0.01s.\n",
      "@> Kirchhoff was built in 0.00s.\n",
      "@> 157 modes were calculated in 0.00s.\n",
      "@> Hessian was built in 0.03s.\n",
      "@> 468 modes were calculated in 0.02s.\n"
     ]
    },
    {
     "name": "stdout",
     "output_type": "stream",
     "text": [
      "Time taken: 0.11627984100050526\n",
      "Time taken: 0.11062953399959952\n"
     ]
    },
    {
     "name": "stderr",
     "output_type": "stream",
     "text": [
      "@> 2499 atoms and 1 coordinate set(s) were parsed in 0.01s.\n",
      "@> Kirchhoff was built in 0.01s.\n",
      "@> 157 modes were calculated in 0.00s.\n",
      "@> Hessian was built in 0.03s.\n",
      "@> 468 modes were calculated in 0.02s.\n",
      "@> 2485 atoms and 1 coordinate set(s) were parsed in 0.01s.\n",
      "@> Kirchhoff was built in 0.01s.\n",
      "@> 157 modes were calculated in 0.00s.\n",
      "@> Hessian was built in 0.03s.\n",
      "@> 468 modes were calculated in 0.02s.\n"
     ]
    },
    {
     "name": "stdout",
     "output_type": "stream",
     "text": [
      "Time taken: 0.10554553999827476\n",
      "Time taken: 0.10214853299839888\n",
      "Time taken: 0.09752736399968853\n"
     ]
    },
    {
     "name": "stderr",
     "output_type": "stream",
     "text": [
      "@> 2469 atoms and 1 coordinate set(s) were parsed in 0.01s.\n",
      "@> Kirchhoff was built in 0.01s.\n",
      "@> 157 modes were calculated in 0.00s.\n",
      "@> Hessian was built in 0.04s.\n",
      "@> 468 modes were calculated in 0.02s.\n",
      "@> 2478 atoms and 1 coordinate set(s) were parsed in 0.01s.\n",
      "@> Kirchhoff was built in 0.01s.\n",
      "@> 157 modes were calculated in 0.00s.\n",
      "@> Hessian was built in 0.03s.\n",
      "@> 468 modes were calculated in 0.02s.\n",
      "@> 2465 atoms and 1 coordinate set(s) were parsed in 0.01s.\n",
      "@> Kirchhoff was built in 0.01s.\n",
      "@> 157 modes were calculated in 0.00s.\n",
      "@> Hessian was built in 0.04s.\n",
      "@> 468 modes were calculated in 0.02s.\n"
     ]
    },
    {
     "name": "stdout",
     "output_type": "stream",
     "text": [
      "Time taken: 0.12454756800434552\n",
      "Time taken: 0.10415374700096436\n"
     ]
    },
    {
     "name": "stderr",
     "output_type": "stream",
     "text": [
      "@> 2469 atoms and 1 coordinate set(s) were parsed in 0.01s.\n",
      "@> Kirchhoff was built in 0.01s.\n",
      "@> 157 modes were calculated in 0.00s.\n",
      "@> Hessian was built in 0.03s.\n",
      "@> 468 modes were calculated in 0.02s.\n",
      "@> 2448 atoms and 1 coordinate set(s) were parsed in 0.01s.\n",
      "@> Kirchhoff was built in 0.01s.\n",
      "@> 157 modes were calculated in 0.00s.\n",
      "@> Hessian was built in 0.03s.\n",
      "@> 468 modes were calculated in 0.02s.\n"
     ]
    },
    {
     "name": "stdout",
     "output_type": "stream",
     "text": [
      "Time taken: 0.11509986400051275\n",
      "Time taken: 0.10113643200020306\n"
     ]
    },
    {
     "name": "stderr",
     "output_type": "stream",
     "text": [
      "@> 2478 atoms and 1 coordinate set(s) were parsed in 0.01s.\n",
      "@> Kirchhoff was built in 0.01s.\n",
      "@> 157 modes were calculated in 0.00s.\n",
      "@> Hessian was built in 0.03s.\n",
      "@> 468 modes were calculated in 0.02s.\n",
      "@> 2473 atoms and 1 coordinate set(s) were parsed in 0.01s.\n",
      "@> Kirchhoff was built in 0.01s.\n",
      "@> 157 modes were calculated in 0.00s.\n",
      "@> Hessian was built in 0.03s.\n",
      "@> 468 modes were calculated in 0.02s.\n"
     ]
    },
    {
     "name": "stdout",
     "output_type": "stream",
     "text": [
      "Time taken: 0.10377966400119476\n",
      "Time taken: 0.10641352000675397\n"
     ]
    },
    {
     "name": "stderr",
     "output_type": "stream",
     "text": [
      "@> 2474 atoms and 1 coordinate set(s) were parsed in 0.01s.\n",
      "@> Kirchhoff was built in 0.01s.\n",
      "@> 157 modes were calculated in 0.00s.\n",
      "@> Hessian was built in 0.04s.\n",
      "@> 468 modes were calculated in 0.02s.\n",
      "@> 2483 atoms and 1 coordinate set(s) were parsed in 0.01s.\n",
      "@> Kirchhoff was built in 0.00s.\n",
      "@> 157 modes were calculated in 0.00s.\n",
      "@> Hessian was built in 0.04s.\n",
      "@> 468 modes were calculated in 0.02s.\n"
     ]
    },
    {
     "name": "stdout",
     "output_type": "stream",
     "text": [
      "Time taken: 0.11467840299883392\n",
      "Time taken: 0.11515244300244376\n"
     ]
    },
    {
     "name": "stderr",
     "output_type": "stream",
     "text": [
      "@> 2444 atoms and 1 coordinate set(s) were parsed in 0.01s.\n",
      "@> Kirchhoff was built in 0.01s.\n",
      "@> 157 modes were calculated in 0.00s.\n",
      "@> Hessian was built in 0.03s.\n",
      "@> 468 modes were calculated in 0.02s.\n",
      "@> 2474 atoms and 1 coordinate set(s) were parsed in 0.01s.\n",
      "@> Kirchhoff was built in 0.00s.\n",
      "@> 157 modes were calculated in 0.00s.\n",
      "@> Hessian was built in 0.03s.\n",
      "@> 468 modes were calculated in 0.02s.\n"
     ]
    },
    {
     "name": "stdout",
     "output_type": "stream",
     "text": [
      "Time taken: 0.10816374199930578\n",
      "Time taken: 0.10380600600183243\n",
      "Time taken: 0.09749346999888076\n"
     ]
    },
    {
     "name": "stderr",
     "output_type": "stream",
     "text": [
      "@> 2466 atoms and 1 coordinate set(s) were parsed in 0.01s.\n",
      "@> Kirchhoff was built in 0.01s.\n",
      "@> 157 modes were calculated in 0.00s.\n",
      "@> Hessian was built in 0.04s.\n",
      "@> 468 modes were calculated in 0.02s.\n",
      "@> 2473 atoms and 1 coordinate set(s) were parsed in 0.01s.\n",
      "@> Kirchhoff was built in 0.00s.\n",
      "@> 157 modes were calculated in 0.00s.\n",
      "@> Hessian was built in 0.03s.\n",
      "@> 468 modes were calculated in 0.02s.\n",
      "@> 2476 atoms and 1 coordinate set(s) were parsed in 0.01s.\n",
      "@> Kirchhoff was built in 0.01s.\n",
      "@> 157 modes were calculated in 0.00s.\n",
      "@> Hessian was built in 0.03s.\n",
      "@> 468 modes were calculated in 0.02s.\n"
     ]
    },
    {
     "name": "stdout",
     "output_type": "stream",
     "text": [
      "Time taken: 0.117032501999347\n",
      "Time taken: 0.10657542999979341\n"
     ]
    },
    {
     "name": "stderr",
     "output_type": "stream",
     "text": [
      "@> 2473 atoms and 1 coordinate set(s) were parsed in 0.02s.\n",
      "@> Kirchhoff was built in 0.01s.\n",
      "@> 157 modes were calculated in 0.00s.\n",
      "@> Hessian was built in 0.05s.\n",
      "@> 468 modes were calculated in 0.02s.\n",
      "@> 2485 atoms and 1 coordinate set(s) were parsed in 0.01s.\n",
      "@> Kirchhoff was built in 0.01s.\n",
      "@> 157 modes were calculated in 0.00s.\n",
      "@> Hessian was built in 0.04s.\n"
     ]
    },
    {
     "name": "stdout",
     "output_type": "stream",
     "text": [
      "Time taken: 0.10071175099437824\n",
      "Time taken: 0.13820518500142498\n"
     ]
    },
    {
     "name": "stderr",
     "output_type": "stream",
     "text": [
      "@> 468 modes were calculated in 0.02s.\n",
      "@> 2483 atoms and 1 coordinate set(s) were parsed in 0.01s.\n",
      "@> Kirchhoff was built in 0.01s.\n",
      "@> 157 modes were calculated in 0.00s.\n",
      "@> Hessian was built in 0.04s.\n",
      "@> 468 modes were calculated in 0.04s.\n",
      "@> 2464 atoms and 1 coordinate set(s) were parsed in 0.01s.\n",
      "@> Kirchhoff was built in 0.00s.\n",
      "@> 157 modes were calculated in 0.00s.\n",
      "@> Hessian was built in 0.04s.\n"
     ]
    },
    {
     "name": "stdout",
     "output_type": "stream",
     "text": [
      "Time taken: 0.11707607100106543\n",
      "Time taken: 0.1441037340046023\n"
     ]
    },
    {
     "name": "stderr",
     "output_type": "stream",
     "text": [
      "@> 468 modes were calculated in 0.02s.\n",
      "@> 2471 atoms and 1 coordinate set(s) were parsed in 0.01s.\n",
      "@> Kirchhoff was built in 0.01s.\n",
      "@> 157 modes were calculated in 0.00s.\n",
      "@> Hessian was built in 0.04s.\n",
      "@> 468 modes were calculated in 0.02s.\n",
      "@> 2485 atoms and 1 coordinate set(s) were parsed in 0.02s.\n",
      "@> Kirchhoff was built in 0.01s.\n",
      "@> 157 modes were calculated in 0.00s.\n",
      "@> Hessian was built in 0.03s.\n",
      "@> 468 modes were calculated in 0.02s.\n"
     ]
    },
    {
     "name": "stdout",
     "output_type": "stream",
     "text": [
      "Time taken: 0.1201065809946158\n",
      "Time taken: 0.11643474599986803\n"
     ]
    },
    {
     "name": "stderr",
     "output_type": "stream",
     "text": [
      "@> 2472 atoms and 1 coordinate set(s) were parsed in 0.02s.\n",
      "@> Kirchhoff was built in 0.01s.\n",
      "@> 157 modes were calculated in 0.00s.\n",
      "@> Hessian was built in 0.04s.\n",
      "@> 468 modes were calculated in 0.02s.\n",
      "@> 2480 atoms and 1 coordinate set(s) were parsed in 0.01s.\n",
      "@> Kirchhoff was built in 0.01s.\n",
      "@> 157 modes were calculated in 0.00s.\n",
      "@> Hessian was built in 0.03s.\n",
      "@> 468 modes were calculated in 0.02s.\n"
     ]
    },
    {
     "name": "stdout",
     "output_type": "stream",
     "text": [
      "Time taken: 0.11538717700022971\n",
      "Time taken: 0.1206621500023175\n"
     ]
    },
    {
     "name": "stderr",
     "output_type": "stream",
     "text": [
      "@> 2460 atoms and 1 coordinate set(s) were parsed in 0.02s.\n",
      "@> Kirchhoff was built in 0.01s.\n",
      "@> 157 modes were calculated in 0.00s.\n",
      "@> Hessian was built in 0.05s.\n",
      "@> 468 modes were calculated in 0.02s.\n",
      "@> 2500 atoms and 1 coordinate set(s) were parsed in 0.01s.\n",
      "@> Kirchhoff was built in 0.01s.\n",
      "@> 157 modes were calculated in 0.00s.\n"
     ]
    },
    {
     "name": "stdout",
     "output_type": "stream",
     "text": [
      "Time taken: 0.09833943199919304\n",
      "Time taken: 0.14914186999521917\n"
     ]
    },
    {
     "name": "stderr",
     "output_type": "stream",
     "text": [
      "@> Hessian was built in 0.04s.\n",
      "@> 468 modes were calculated in 0.03s.\n",
      "@> 2469 atoms and 1 coordinate set(s) were parsed in 0.01s.\n",
      "@> Kirchhoff was built in 0.01s.\n",
      "@> 157 modes were calculated in 0.00s.\n",
      "@> Hessian was built in 0.03s.\n",
      "@> 468 modes were calculated in 0.02s.\n",
      "@> 2489 atoms and 1 coordinate set(s) were parsed in 0.02s.\n",
      "@> Kirchhoff was built in 0.01s.\n",
      "@> 157 modes were calculated in 0.00s.\n",
      "@> Hessian was built in 0.04s.\n",
      "@> 468 modes were calculated in 0.02s.\n"
     ]
    },
    {
     "name": "stdout",
     "output_type": "stream",
     "text": [
      "Time taken: 0.11802331699436763\n",
      "Time taken: 0.1013631469977554\n"
     ]
    },
    {
     "name": "stderr",
     "output_type": "stream",
     "text": [
      "@> 2497 atoms and 1 coordinate set(s) were parsed in 0.01s.\n",
      "@> Kirchhoff was built in 0.01s.\n",
      "@> 157 modes were calculated in 0.00s.\n",
      "@> Hessian was built in 0.04s.\n",
      "@> 468 modes were calculated in 0.03s.\n",
      "@> 2462 atoms and 1 coordinate set(s) were parsed in 0.01s.\n",
      "@> Kirchhoff was built in 0.01s.\n",
      "@> 157 modes were calculated in 0.00s.\n",
      "@> Hessian was built in 0.04s.\n"
     ]
    },
    {
     "name": "stdout",
     "output_type": "stream",
     "text": [
      "Time taken: 0.12084323599992786\n",
      "Time taken: 0.1255376109984354\n"
     ]
    },
    {
     "name": "stderr",
     "output_type": "stream",
     "text": [
      "@> 468 modes were calculated in 0.02s.\n",
      "@> 2456 atoms and 1 coordinate set(s) were parsed in 0.01s.\n",
      "@> Kirchhoff was built in 0.01s.\n",
      "@> 157 modes were calculated in 0.00s.\n",
      "@> Hessian was built in 0.04s.\n",
      "@> 468 modes were calculated in 0.02s.\n",
      "@> 2473 atoms and 1 coordinate set(s) were parsed in 0.01s.\n",
      "@> Kirchhoff was built in 0.01s.\n",
      "@> 157 modes were calculated in 0.00s.\n",
      "@> Hessian was built in 0.04s.\n"
     ]
    },
    {
     "name": "stdout",
     "output_type": "stream",
     "text": [
      "Time taken: 0.11716153499583015\n",
      "Time taken: 0.13034093099849997\n"
     ]
    },
    {
     "name": "stderr",
     "output_type": "stream",
     "text": [
      "@> 468 modes were calculated in 0.02s.\n",
      "@> 2497 atoms and 1 coordinate set(s) were parsed in 0.01s.\n",
      "@> Kirchhoff was built in 0.01s.\n",
      "@> 157 modes were calculated in 0.00s.\n",
      "@> Hessian was built in 0.04s.\n",
      "@> 468 modes were calculated in 0.03s.\n",
      "@> 2469 atoms and 1 coordinate set(s) were parsed in 0.02s.\n",
      "@> Kirchhoff was built in 0.01s.\n",
      "@> 157 modes were calculated in 0.00s.\n",
      "@> Hessian was built in 0.04s.\n"
     ]
    },
    {
     "name": "stdout",
     "output_type": "stream",
     "text": [
      "Time taken: 0.11701078699843492\n",
      "Time taken: 0.12294509999628644\n"
     ]
    },
    {
     "name": "stderr",
     "output_type": "stream",
     "text": [
      "@> 468 modes were calculated in 0.02s.\n",
      "@> 2473 atoms and 1 coordinate set(s) were parsed in 0.01s.\n",
      "@> Kirchhoff was built in 0.01s.\n",
      "@> 157 modes were calculated in 0.00s.\n",
      "@> Hessian was built in 0.04s.\n",
      "@> 468 modes were calculated in 0.02s.\n",
      "@> 2484 atoms and 1 coordinate set(s) were parsed in 0.01s.\n",
      "@> Kirchhoff was built in 0.01s.\n",
      "@> 157 modes were calculated in 0.00s.\n",
      "@> Hessian was built in 0.04s.\n"
     ]
    },
    {
     "name": "stdout",
     "output_type": "stream",
     "text": [
      "Time taken: 0.12960622199898353\n",
      "Time taken: 0.12971069299965166\n"
     ]
    },
    {
     "name": "stderr",
     "output_type": "stream",
     "text": [
      "@> 468 modes were calculated in 0.02s.\n",
      "@> 2454 atoms and 1 coordinate set(s) were parsed in 0.01s.\n",
      "@> Kirchhoff was built in 0.01s.\n",
      "@> 157 modes were calculated in 0.00s.\n",
      "@> Hessian was built in 0.03s.\n",
      "@> 468 modes were calculated in 0.02s.\n",
      "@> 2457 atoms and 1 coordinate set(s) were parsed in 0.01s.\n",
      "@> Kirchhoff was built in 0.01s.\n",
      "@> 157 modes were calculated in 0.00s.\n",
      "@> Hessian was built in 0.03s.\n",
      "@> 468 modes were calculated in 0.03s.\n"
     ]
    },
    {
     "name": "stdout",
     "output_type": "stream",
     "text": [
      "Time taken: 0.13320682500489056\n",
      "Time taken: 0.10709306500211824\n"
     ]
    },
    {
     "name": "stderr",
     "output_type": "stream",
     "text": [
      "@> 2487 atoms and 1 coordinate set(s) were parsed in 0.01s.\n",
      "@> Kirchhoff was built in 0.01s.\n",
      "@> 157 modes were calculated in 0.00s.\n",
      "@> Hessian was built in 0.04s.\n",
      "@> 468 modes were calculated in 0.02s.\n",
      "@> 2456 atoms and 1 coordinate set(s) were parsed in 0.01s.\n",
      "@> Kirchhoff was built in 0.01s.\n",
      "@> 157 modes were calculated in 0.00s.\n",
      "@> Hessian was built in 0.05s.\n"
     ]
    },
    {
     "name": "stdout",
     "output_type": "stream",
     "text": [
      "Time taken: 0.12416275799478171\n",
      "Time taken: 0.11584878799476428\n"
     ]
    },
    {
     "name": "stderr",
     "output_type": "stream",
     "text": [
      "@> 468 modes were calculated in 0.02s.\n",
      "@> 2468 atoms and 1 coordinate set(s) were parsed in 0.01s.\n",
      "@> Kirchhoff was built in 0.01s.\n",
      "@> 157 modes were calculated in 0.00s.\n",
      "@> Hessian was built in 0.03s.\n",
      "@> 468 modes were calculated in 0.02s.\n",
      "@> 2450 atoms and 1 coordinate set(s) were parsed in 0.01s.\n",
      "@> Kirchhoff was built in 0.01s.\n",
      "@> 157 modes were calculated in 0.00s.\n",
      "@> Hessian was built in 0.04s.\n",
      "@> 468 modes were calculated in 0.02s.\n"
     ]
    },
    {
     "name": "stdout",
     "output_type": "stream",
     "text": [
      "Time taken: 0.12512316399806878\n",
      "Time taken: 0.11227264100307366\n"
     ]
    },
    {
     "name": "stderr",
     "output_type": "stream",
     "text": [
      "@> 2465 atoms and 1 coordinate set(s) were parsed in 0.01s.\n",
      "@> Kirchhoff was built in 0.01s.\n",
      "@> 157 modes were calculated in 0.00s.\n",
      "@> Hessian was built in 0.04s.\n",
      "@> 468 modes were calculated in 0.02s.\n",
      "@> 2487 atoms and 1 coordinate set(s) were parsed in 0.01s.\n",
      "@> Kirchhoff was built in 0.01s.\n",
      "@> 157 modes were calculated in 0.00s.\n",
      "@> Hessian was built in 0.04s.\n"
     ]
    },
    {
     "name": "stdout",
     "output_type": "stream",
     "text": [
      "Time taken: 0.11228029600169975\n",
      "Time taken: 0.1342887890059501\n"
     ]
    },
    {
     "name": "stderr",
     "output_type": "stream",
     "text": [
      "@> 468 modes were calculated in 0.02s.\n",
      "@> 2479 atoms and 1 coordinate set(s) were parsed in 0.02s.\n",
      "@> Kirchhoff was built in 0.01s.\n",
      "@> 157 modes were calculated in 0.00s.\n",
      "@> Hessian was built in 0.04s.\n",
      "@> 468 modes were calculated in 0.03s.\n",
      "@> 2474 atoms and 1 coordinate set(s) were parsed in 0.01s.\n",
      "@> Kirchhoff was built in 0.01s.\n",
      "@> 157 modes were calculated in 0.00s.\n"
     ]
    },
    {
     "name": "stdout",
     "output_type": "stream",
     "text": [
      "Time taken: 0.12906316500448156\n",
      "Time taken: 0.1468919039980392\n"
     ]
    },
    {
     "name": "stderr",
     "output_type": "stream",
     "text": [
      "@> Hessian was built in 0.04s.\n",
      "@> 468 modes were calculated in 0.02s.\n",
      "@> 2477 atoms and 1 coordinate set(s) were parsed in 0.01s.\n",
      "@> Kirchhoff was built in 0.01s.\n",
      "@> 157 modes were calculated in 0.00s.\n",
      "@> Hessian was built in 0.03s.\n",
      "@> 468 modes were calculated in 0.02s.\n",
      "@> 2457 atoms and 1 coordinate set(s) were parsed in 0.01s.\n",
      "@> Kirchhoff was built in 0.01s.\n",
      "@> 157 modes were calculated in 0.00s.\n",
      "@> Hessian was built in 0.03s.\n"
     ]
    },
    {
     "name": "stdout",
     "output_type": "stream",
     "text": [
      "Time taken: 0.12359446700429544\n",
      "Time taken: 0.12194901600014418\n"
     ]
    },
    {
     "name": "stderr",
     "output_type": "stream",
     "text": [
      "@> 468 modes were calculated in 0.02s.\n",
      "@> 2452 atoms and 1 coordinate set(s) were parsed in 0.01s.\n",
      "@> Kirchhoff was built in 0.01s.\n",
      "@> 157 modes were calculated in 0.00s.\n",
      "@> Hessian was built in 0.04s.\n",
      "@> 468 modes were calculated in 0.03s.\n",
      "@> 2456 atoms and 1 coordinate set(s) were parsed in 0.01s.\n",
      "@> Kirchhoff was built in 0.01s.\n",
      "@> 157 modes were calculated in 0.00s.\n"
     ]
    },
    {
     "name": "stdout",
     "output_type": "stream",
     "text": [
      "Time taken: 0.11935998300032225\n",
      "Time taken: 0.14720672099792864\n"
     ]
    },
    {
     "name": "stderr",
     "output_type": "stream",
     "text": [
      "@> Hessian was built in 0.04s.\n",
      "@> 468 modes were calculated in 0.02s.\n",
      "@> 2487 atoms and 1 coordinate set(s) were parsed in 0.01s.\n",
      "@> Kirchhoff was built in 0.01s.\n",
      "@> 157 modes were calculated in 0.00s.\n",
      "@> Hessian was built in 0.03s.\n",
      "@> 468 modes were calculated in 0.02s.\n",
      "@> 2471 atoms and 1 coordinate set(s) were parsed in 0.02s.\n",
      "@> Kirchhoff was built in 0.01s.\n",
      "@> 157 modes were calculated in 0.00s.\n",
      "@> Hessian was built in 0.04s.\n",
      "@> 468 modes were calculated in 0.02s.\n"
     ]
    },
    {
     "name": "stdout",
     "output_type": "stream",
     "text": [
      "Time taken: 0.14070499499939615\n",
      "Time taken: 0.10852660200180253\n"
     ]
    },
    {
     "name": "stderr",
     "output_type": "stream",
     "text": [
      "@> 2455 atoms and 1 coordinate set(s) were parsed in 0.01s.\n",
      "@> Kirchhoff was built in 0.01s.\n",
      "@> 157 modes were calculated in 0.00s.\n",
      "@> Hessian was built in 0.04s.\n",
      "@> 468 modes were calculated in 0.02s.\n",
      "@> 2470 atoms and 1 coordinate set(s) were parsed in 0.01s.\n",
      "@> Kirchhoff was built in 0.01s.\n",
      "@> 157 modes were calculated in 0.00s.\n"
     ]
    },
    {
     "name": "stdout",
     "output_type": "stream",
     "text": [
      "Time taken: 0.11841659899801016\n",
      "Time taken: 0.14016155900026206\n"
     ]
    },
    {
     "name": "stderr",
     "output_type": "stream",
     "text": [
      "@> Hessian was built in 0.04s.\n",
      "@> 468 modes were calculated in 0.02s.\n",
      "@> 2464 atoms and 1 coordinate set(s) were parsed in 0.01s.\n",
      "@> Kirchhoff was built in 0.01s.\n",
      "@> 157 modes were calculated in 0.00s.\n",
      "@> Hessian was built in 0.03s.\n",
      "@> 468 modes were calculated in 0.02s.\n"
     ]
    },
    {
     "name": "stdout",
     "output_type": "stream",
     "text": [
      "Time taken: 0.1266172559990082\n",
      "Time taken: 0.10707758200442186\n",
      "Total time: 32.818972380096966\n",
      "Average time per mutant: 0.10939657460032322\n"
     ]
    }
   ],
   "source": [
    "run_nma_on_dir('mutant_library', 'nma')"
   ]
  },
  {
   "cell_type": "code",
   "execution_count": null,
   "id": "b1772399",
   "metadata": {},
   "outputs": [],
   "source": []
  }
 ],
 "metadata": {
  "kernelspec": {
   "display_name": "prody",
   "language": "python",
   "name": "python3"
  },
  "language_info": {
   "codemirror_mode": {
    "name": "ipython",
    "version": 3
   },
   "file_extension": ".py",
   "mimetype": "text/x-python",
   "name": "python",
   "nbconvert_exporter": "python",
   "pygments_lexer": "ipython3",
   "version": "3.9.23"
  }
 },
 "nbformat": 4,
 "nbformat_minor": 5
}
